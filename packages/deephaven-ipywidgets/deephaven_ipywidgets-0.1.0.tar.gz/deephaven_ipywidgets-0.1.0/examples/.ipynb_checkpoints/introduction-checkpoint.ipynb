{
 "cells": [
  {
   "cell_type": "code",
   "execution_count": null,
   "id": "1fd43d19",
   "metadata": {},
   "outputs": [],
   "source": [
    "%%html\n",
    "<style>\n",
    ".cell-output-ipywidget-background {\n",
    "   background-color: transparent !important;\n",
    "}\n",
    ".jp-OutputArea-output {\n",
    "   background-color: transparent;\n",
    "}  \n",
    "</style>"
   ]
  },
  {
   "cell_type": "code",
   "execution_count": null,
   "id": "ec21a82b-e91a-448a-a865-398f5c253e70",
   "metadata": {},
   "outputs": [],
   "source": [
    "# Start up the Deephaven Server\n",
    "from deephaven_server import Server\n",
    "s = Server(port=8080)\n",
    "s.start()"
   ]
  },
  {
   "cell_type": "code",
   "execution_count": null,
   "id": "37be44e2",
   "metadata": {},
   "outputs": [],
   "source": [
    "# Initialize the Deephaven Widget\n",
    "from dhc_jupyter import DeephavenWidget\n",
    "DeephavenWidget.init(globals(), url=\"http://localhost:8080\", width=900, height=600)\n",
    "display(\"Deephaven Widget initialized\")"
   ]
  },
  {
   "cell_type": "code",
   "execution_count": null,
   "id": "28b44229-21b3-451b-937b-533b049de1c8",
   "metadata": {},
   "outputs": [],
   "source": [
    "# Create a table and display it\n",
    "from deephaven import empty_table\n",
    "t = empty_table(1000).update(\"x=i\")\n",
    "display(DeephavenWidget(t))"
   ]
  },
  {
   "cell_type": "code",
   "execution_count": null,
   "id": "b5234d93",
   "metadata": {},
   "outputs": [],
   "source": [
    "# Specify a size for the table\n",
    "DeephavenWidget(t, width=100, height=250)"
   ]
  },
  {
   "cell_type": "code",
   "execution_count": null,
   "id": "690cab75",
   "metadata": {},
   "outputs": [],
   "source": [
    "# Without using widgets or the plugin at all, you can specify the whole IFrame and address for the table to be shown if it's on the global namespace\n",
    "import ipywidgets as widgets\n",
    "from IPython.display import display, IFrame\n",
    "IFrame(src='http://localhost:8080/iframe/table/?name=t',width=900, height=600)"
   ]
  },
  {
   "cell_type": "code",
   "execution_count": null,
   "id": "0834d7cb",
   "metadata": {},
   "outputs": [],
   "source": []
  }
 ],
 "metadata": {
  "kernelspec": {
   "display_name": "Python 3 (ipykernel)",
   "language": "python",
   "name": "python3"
  },
  "language_info": {
   "codemirror_mode": {
    "name": "ipython",
    "version": 3
   },
   "file_extension": ".py",
   "mimetype": "text/x-python",
   "name": "python",
   "nbconvert_exporter": "python",
   "pygments_lexer": "ipython3",
   "version": "3.8.9"
  },
  "vscode": {
   "interpreter": {
    "hash": "3fb3d169c97c05dce9d5e5e07fba5f8e81b84aa43749864b30ae9fc530edac5a"
   }
  }
 },
 "nbformat": 4,
 "nbformat_minor": 5
}
