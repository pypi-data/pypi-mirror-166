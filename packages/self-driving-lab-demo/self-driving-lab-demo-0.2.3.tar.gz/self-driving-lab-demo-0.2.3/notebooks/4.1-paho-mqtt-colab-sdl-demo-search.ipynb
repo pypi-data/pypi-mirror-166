{
  "cells": [
    {
      "cell_type": "markdown",
      "metadata": {},
      "source": [
        "[![Open In Colab](https://colab.research.google.com/assets/colab-badge.svg)](https://colab.research.google.com/github/sparks-baird/self-driving-lab-demo/blob/main/notebooks/4.1-paho-mqtt-colab-sdl-demo-search.ipynb)"
      ]
    },
    {
      "cell_type": "markdown",
      "metadata": {
        "id": "3SqGTCMkhrC7"
      },
      "source": [
        "# Optimization Comparison using Internet of Things-style Communication\n",
        "\n",
        "The other device could be your laptop, a Google Colab script, etc."
      ]
    },
    {
      "cell_type": "code",
      "execution_count": 1,
      "metadata": {
        "id": "o2vqpULnaaWR"
      },
      "outputs": [],
      "source": [
        "try:\n",
        "  import google.colab\n",
        "  IN_COLAB = True\n",
        "except:\n",
        "  IN_COLAB = False  "
      ]
    },
    {
      "cell_type": "code",
      "execution_count": 2,
      "metadata": {
        "colab": {
          "base_uri": "https://localhost:8080/"
        },
        "id": "36C-UDjGemiM",
        "outputId": "7323469b-7573-4337-f238-7f54e8be0cfb"
      },
      "outputs": [],
      "source": [
        "if IN_COLAB:\n",
        "  %pip install self-driving-lab-demo paho-mqtt"
      ]
    },
    {
      "cell_type": "markdown",
      "metadata": {
        "id": "KhLz9DT3etkG"
      },
      "source": [
        "## Pico ID\n",
        "\n",
        "Load a unique identifier for your Pico device from a `pico_id_secret.py` file that you store in your Google Drive (see below) or current directory (`.`), or specify it manually by setting the `PICO_ID` variable in the form field. If you don't know what the ID is, you can get it by running the following in the Pico REPL (i.e. MicroPython shell, e.g. in Thonny):\n",
        "```python\n",
        "from machine import unique_id\n",
        "from ubinascii import hexlify\n",
        "my_id = hexlify(unique_id()).decode()\n",
        "print(my_id)\n",
        "```\n",
        "\n",
        "For your convenience, this is done already in [`main.py`](https://github.com/sparks-baird/self-driving-lab-demo/blob/06ededd312087a815b5c0ac8098e82db9c5730c8/src/public_mqtt_sdl_demo/main.py) so you need only run this file once the Pico W has been properly set up and it will be displayed in the terminal.\n",
        "\n",
        "The file named `pico_id_secret.py` placed directly in your `MyDrive` folder or in your current directory would look like the following:\n",
        "```python\n",
        "PICO_ID = \"a123b1234azed\"\n",
        "```"
      ]
    },
    {
      "cell_type": "code",
      "execution_count": 3,
      "metadata": {
        "cellView": "form",
        "colab": {
          "base_uri": "https://localhost:8080/"
        },
        "id": "zs5raYNPfF1D",
        "outputId": "3575c2f7-7dff-4362-dc47-4de9e27604fb"
      },
      "outputs": [],
      "source": [
        "#@markdown No need to enter this manually if you've already saved the appropriate file to your Google Drive. Just run this cell and the hidden code will take care of it.\n",
        "import sys\n",
        "secret_name = \"PICO_ID\"\n",
        "if IN_COLAB:\n",
        "  from google.colab import drive\n",
        "  drive.mount('/content/drive')\n",
        "  sys.path.append('/content/drive/MyDrive/')\n",
        "  try:\n",
        "    from pico_id_secret import PICO_ID\n",
        "  except Exception as e:\n",
        "    print(e)\n",
        "    PICO_ID = \"\" #@param {type:\"string\"}\n",
        "    if PICO_ID == \"\":\n",
        "      print(f\"Couldn't load {secret_name}, and user-input {secret_name} is also empty.\")\n",
        "    else:\n",
        "      print(f\"defaulting to user-input PICO_ID: {PICO_ID}\")\n",
        "else:\n",
        "  from public_mqtt_sdl_demo.secrets import PICO_ID"
      ]
    },
    {
      "cell_type": "code",
      "execution_count": 4,
      "metadata": {
        "colab": {
          "base_uri": "https://localhost:8080/"
        },
        "id": "trkRwC0zaPgB",
        "outputId": "ce939777-45b9-47ca-9ca2-634301a6d8b8"
      },
      "outputs": [],
      "source": [
        "from self_driving_lab_demo import SelfDrivingLabDemo, mqtt_observe_sensor_data\n",
        "\n",
        "sdl = SelfDrivingLabDemo(\n",
        "    autoload=True,\n",
        "    observe_sensor_data_fn=mqtt_observe_sensor_data,\n",
        "    observe_sensor_data_kwargs=dict(pico_id=PICO_ID),\n",
        ")\n",
        "sdl.clear()"
      ]
    },
    {
      "cell_type": "markdown",
      "metadata": {},
      "source": [
        "We've gone through enough boilerplate code and comparisons by this point that it's\n",
        "prudent to define and import helper functions based on content from previous notebooks\n",
        "(e.g. [`3.1-random-vs-grid-vs-bayesian.ipynb`](3.1-random-vs-grid-vs-bayesian.ipynb))"
      ]
    },
    {
      "cell_type": "code",
      "execution_count": 9,
      "metadata": {
        "id": "D2HPBznJaVry"
      },
      "outputs": [],
      "source": [
        "num_iter = 64\n",
        "\n",
        "from self_driving_lab_demo.utils.search import (\n",
        "    grid_search,\n",
        "    random_search,\n",
        "    ax_bayesian_optimization,\n",
        ")\n",
        "\n",
        "grid, grid_data = grid_search(sdl, num_iter)\n",
        "random_inputs, random_data = random_search(sdl, num_iter)\n",
        "best_parameters, values, experiment, model = ax_bayesian_optimization(sdl, num_iter)\n",
        "sdl.clear()"
      ]
    },
    {
      "cell_type": "code",
      "execution_count": null,
      "metadata": {},
      "outputs": [],
      "source": []
    }
  ],
  "metadata": {
    "colab": {
      "collapsed_sections": [],
      "provenance": []
    },
    "kernelspec": {
      "display_name": "Python 3.9.13 ('sdl-demo')",
      "language": "python",
      "name": "python3"
    },
    "language_info": {
      "codemirror_mode": {
        "name": "ipython",
        "version": 3
      },
      "file_extension": ".py",
      "mimetype": "text/x-python",
      "name": "python",
      "nbconvert_exporter": "python",
      "pygments_lexer": "ipython3",
      "version": "3.9.13"
    },
    "vscode": {
      "interpreter": {
        "hash": "70cb6d4911b67e25d1487ebd620c5d1370239efaaf47f3851af44f5c5a26f988"
      }
    }
  },
  "nbformat": 4,
  "nbformat_minor": 0
}
