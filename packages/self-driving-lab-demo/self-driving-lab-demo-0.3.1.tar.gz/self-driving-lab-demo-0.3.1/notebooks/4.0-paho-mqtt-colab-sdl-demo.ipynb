{
  "cells": [
    {
      "cell_type": "markdown",
      "metadata": {
        "id": "X8ZYy_nqMsgm"
      },
      "source": [
        "[![Open In Colab](https://colab.research.google.com/assets/colab-badge.svg)](https://colab.research.google.com/github/sparks-baird/self-driving-lab-demo/blob/main/notebooks/4.0-paho-mqtt-colab-sdl-demo.ipynb)"
      ]
    },
    {
      "cell_type": "markdown",
      "metadata": {
        "id": "3SqGTCMkhrC7"
      },
      "source": [
        "# Internet of Things-style communication between Pico W and some other device\n",
        "\n",
        "The other device could be your laptop, a Google Colab script, etc."
      ]
    },
    {
      "cell_type": "code",
      "execution_count": null,
      "metadata": {
        "cellView": "form",
        "id": "o2vqpULnaaWR"
      },
      "outputs": [],
      "source": [
        "#@markdown This cell checks if you're running in Google Colab or not and assigns it to `IN_COLAB`.\n",
        "\n",
        "from os import path\n",
        "try:\n",
        "  import google.colab\n",
        "  IN_COLAB = True\n",
        "  base_dir = \"/content/drive/MyDrive/\"\n",
        "except:\n",
        "  IN_COLAB = False\n",
        "  base_dir = path.join(\"data\", \"external\")\n",
        "  "
      ]
    },
    {
      "cell_type": "code",
      "execution_count": null,
      "metadata": {
        "id": "36C-UDjGemiM"
      },
      "outputs": [],
      "source": [
        "if IN_COLAB:\n",
        "  %pip install paho-mqtt"
      ]
    },
    {
      "cell_type": "markdown",
      "metadata": {
        "id": "KhLz9DT3etkG"
      },
      "source": [
        "## Pico ID\n",
        "\n",
        "Load a unique identifier for your Pico device from a `pico_id_secret.py` file that you store in your Google Drive (see below) or current directory (`.`), or specify it manually by setting the `PICO_ID` variable in the form field. If you don't know what the ID is, you can get it by running the following in the Pico REPL (i.e. MicroPython shell, e.g. in Thonny):\n",
        "```python\n",
        "from machine import unique_id\n",
        "from ubinascii import hexlify\n",
        "my_id = hexlify(unique_id()).decode()\n",
        "print(my_id)\n",
        "```\n",
        "\n",
        "For your convenience, this is done already in [`main.py`](https://github.com/sparks-baird/self-driving-lab-demo/blob/06ededd312087a815b5c0ac8098e82db9c5730c8/src/public_mqtt_sdl_demo/main.py) so you need only run this file once the Pico W has been properly set up and it will be displayed in the terminal.\n",
        "\n",
        "The file named `pico_id_secret.py` placed directly in your `MyDrive` folder or in your current directory would look like the following:\n",
        "```python\n",
        "PICO_ID = \"a123b1234azed\"\n",
        "```"
      ]
    },
    {
      "cell_type": "code",
      "execution_count": null,
      "metadata": {
        "id": "zs5raYNPfF1D",
        "cellView": "form"
      },
      "outputs": [],
      "source": [
        "#@markdown No need to enter this manually if you've already saved the appropriate file to your Google Drive. The hidden code in this cell will take care of it.\n",
        "import sys\n",
        "secret_name = \"PICO_ID\"\n",
        "if IN_COLAB:\n",
        "  from google.colab import drive\n",
        "  drive.mount('/content/drive')\n",
        "  sys.path.append('/content/drive/MyDrive/')\n",
        "  try:\n",
        "    from pico_id_secret import PICO_ID\n",
        "  except Exception as e:\n",
        "    print(e)\n",
        "    PICO_ID = \"test\" #@param {type:\"string\"}\n",
        "    if PICO_ID == \"\":\n",
        "      print(f\"Couldn't load {secret_name}, and user-input {secret_name} is also empty.\")\n",
        "    else:\n",
        "      print(f\"defaulting to user-input PICO_ID: {PICO_ID}\")\n",
        "else:\n",
        "  from public_mqtt_sdl_demo.secrets import PICO_ID"
      ]
    },
    {
      "cell_type": "code",
      "execution_count": null,
      "metadata": {
        "colab": {
          "base_uri": "https://localhost:8080/"
        },
        "id": "trkRwC0zaPgB",
        "outputId": "9979081d-6449-4125-f7c7-e0e1a06db188"
      },
      "outputs": [
        {
          "name": "stdout",
          "output_type": "stream",
          "text": [
            "{'ch583': 187, 'ch670': 134, 'ch510': 655, 'ch410': 77, 'ch620': 302, 'ch470': 3521, 'ch550': 439, 'ch440': 1577}\n",
            "{'ch583': 909, 'ch670': 292, 'ch510': 3015, 'ch410': 190, 'ch620': 1838, 'ch470': 5575, 'ch550': 743, 'ch440': 3176}\n",
            "{'ch583': 59, 'ch670': 66, 'ch510': 232, 'ch410': 30, 'ch620': 39, 'ch470': 2635, 'ch550': 368, 'ch440': 391}\n"
          ]
        }
      ],
      "source": [
        "\"\"\"https://www.steves-internet-guide.com/receiving-messages-mqtt-python-clientq=Queue()\"\"\"\n",
        "import json\n",
        "import paho.mqtt.client as mqtt\n",
        "from queue import Queue\n",
        "from time import time\n",
        "\n",
        "sensor_data_queue = Queue()\n",
        "timeout = 30\n",
        "\n",
        "def on_message(client, userdata, msg):\n",
        "    sensor_data_queue.put(json.loads(msg.payload))\n",
        "\n",
        "\n",
        "def observe_sensor_data(R, G, B, pico_id=PICO_ID, hostname=\"test.mosquitto.org\"):\n",
        "\n",
        "    prefix = f\"sdl-demo/picow/{pico_id}/\"\n",
        "    neopixel_topic = prefix + \"GPIO/28\"\n",
        "    sensor_topic = prefix + \"as7341/\"\n",
        "\n",
        "    # The callback for when the client receives a CONNACK response from the server.\n",
        "    def on_connect(client, userdata, flags, rc):\n",
        "        if rc != 0:\n",
        "          print(\"Connected with result code \" + str(rc))\n",
        "        # Subscribing in on_connect() means that if we lose the connection and\n",
        "        # reconnect then subscriptions will be renewed.\n",
        "        client.subscribe(sensor_topic)\n",
        "\n",
        "    client = mqtt.Client()  # create new instance\n",
        "    client.on_connect = on_connect\n",
        "    client.on_message = on_message\n",
        "    client.connect(hostname)  # connect to broker\n",
        "    client.subscribe(sensor_topic)\n",
        "\n",
        "    # ensures double quotes for JSON compatiblity\n",
        "    payload = json.dumps(dict(R=R, G=G, B=B))\n",
        "    client.publish(neopixel_topic, payload)\n",
        "\n",
        "    t = time()\n",
        "    while sensor_data_queue.empty():\n",
        "        client.loop()\n",
        "        if t - time() > 30:\n",
        "          raise ValueError(\"Failed to retrieve message within timeout period\")\n",
        "    return sensor_data_queue.get()\n",
        "\n",
        "\n",
        "print(observe_sensor_data(5, 10, 15, pico_id=PICO_ID))\n",
        "print(observe_sensor_data(20, 30, 25, pico_id=PICO_ID))\n",
        "print(observe_sensor_data(0, 0, 0, pico_id=PICO_ID))\n"
      ]
    }
  ],
  "metadata": {
    "colab": {
      "collapsed_sections": [],
      "provenance": []
    },
    "kernelspec": {
      "display_name": "Python 3.9.13 ('sdl-demo')",
      "language": "python",
      "name": "python3"
    },
    "language_info": {
      "codemirror_mode": {
        "name": "ipython",
        "version": 3
      },
      "file_extension": ".py",
      "mimetype": "text/x-python",
      "name": "python",
      "nbconvert_exporter": "python",
      "pygments_lexer": "ipython3",
      "version": "3.9.13"
    },
    "vscode": {
      "interpreter": {
        "hash": "70cb6d4911b67e25d1487ebd620c5d1370239efaaf47f3851af44f5c5a26f988"
      }
    }
  },
  "nbformat": 4,
  "nbformat_minor": 0
}
