{
  "cells": [
    {
      "cell_type": "markdown",
      "metadata": {
        "id": "zL8uiXTHIrHI"
      },
      "source": [
        "# [Text2Text](https://github.com/artitw/text2text): Cross-lingual natural language processing and generation toolkit\n",
        "\n",
        "## How Cross-Lingual NLP Models Work (click to watch)\n",
        "[![Cross-Lingual Models](http://img.youtube.com/vi/caZLVcJqsqo/0.jpg)](https://youtu.be/caZLVcJqsqo \"Cross-Lingual Models\")"
      ]
    },
    {
      "cell_type": "code",
      "execution_count": null,
      "metadata": {
        "colab": {
          "base_uri": "https://localhost:8080/"
        },
        "id": "R5p-YiGOJRLV",
        "outputId": "f64a9fe7-a48e-4e65-c080-2254042fac42"
      },
      "outputs": [
        {
          "name": "stdout",
          "output_type": "stream",
          "text": [
            "\u001b[K     |████████████████████████████████| 65 kB 2.0 MB/s \n",
            "\u001b[K     |████████████████████████████████| 1.2 MB 14.0 MB/s \n",
            "\u001b[K     |████████████████████████████████| 3.5 MB 21.6 MB/s \n",
            "\u001b[K     |████████████████████████████████| 67 kB 3.5 MB/s \n",
            "\u001b[K     |████████████████████████████████| 596 kB 40.0 MB/s \n",
            "\u001b[K     |████████████████████████████████| 895 kB 41.7 MB/s \n",
            "\u001b[K     |████████████████████████████████| 6.8 MB 32.4 MB/s \n",
            "\u001b[?25h"
          ]
        }
      ],
      "source": [
        "pip install -q -U text2text"
      ]
    },
    {
      "cell_type": "code",
      "source": [
        "pip show text2text"
      ],
      "metadata": {
        "id": "BNhPjaAz9tsi"
      },
      "execution_count": null,
      "outputs": []
    },
    {
      "cell_type": "code",
      "source": [
        "%%bash\n",
        "pip install faiss\n",
        "sudo apt-get install libopenblas-dev\n",
        "sudo apt-get install libomp-dev"
      ],
      "metadata": {
        "id": "EcMdSs8D90Po"
      },
      "execution_count": null,
      "outputs": []
    },
    {
      "cell_type": "code",
      "execution_count": null,
      "metadata": {
        "colab": {
          "base_uri": "https://localhost:8080/",
          "height": 211,
          "referenced_widgets": [
            "76cebcb1be7e49dc9b0f94bd72f19490",
            "b067afa02b9c438298137ba64f258992",
            "f765826a867941349ea80b3e29058135",
            "7546ebf32fd74fa6854aa2921f716f5c",
            "e010fe56ccb343dd96228fe8ac30f589",
            "87f1576e92e24ad28d5cfb286fe8c026",
            "dac24686237b435db7cbe472c9684cdb",
            "86557a28b3dc4d4795628ce0585bcc0f",
            "2c1366f6242f4b8fb69292cff33b5d9d",
            "816e4c66eb5547c7a44530a6e9c2cd11",
            "5ce2d11cce5e48ed81faa6d868401b59",
            "b2002a5f9e984f1292a63a9ae27bedb9",
            "5d5f629b25b0417d982f400538c17912",
            "60b460c15c964d23ba5b6161a25e755e",
            "8b5a9a7dc73644179e2a4267141bf9ea",
            "0cbdea1564e24e8fa40ce5ba16e4c681",
            "130bcdf40bf249b6b9b80ea885f4e004",
            "7363cc50f8e248b4a8d19a5fba45d787",
            "d40f2411aa584425a3a9399715591262",
            "399436f75d134e078371d666c3c4fa63",
            "7f67bab58a1e476eabe9e3d506369982",
            "5f983367fffb4e2080fa7569e0804a6c",
            "1b48216c17fc43728108567439b124dc",
            "300a4f87e9904ae18458594f785dcefd",
            "def8e1a6fba64adcb2b6806d7a967a6b",
            "1e67083f495d4e93b6758650c9b79636",
            "3cd761ce595441ed8cb5a3b3ad624b89",
            "ab6f5927eddc49ebb4cc9ace568432e5",
            "ffc529adc81449a3af4b1e0ff964688d",
            "7cfcb04233a242cc832eff8fbf305219",
            "b4b9e3601a8547b4b52669ee5510910b",
            "242df91aa89c4c388ac22d87040f06d6",
            "f42d5711d14b4ce6a3de4cfb7b90146b",
            "ef9d45c62cbd4d3f88c8a2033cebd08d",
            "b467f5766f4346aa9dfecd634599bf88",
            "11ff95bb2d8d41f385b3c5d70e460ef1",
            "30749979771d48908aaf1f0741d021f8",
            "10867fb84bcf4829987c220ef16b0790",
            "83285165a0814b79a4b3e92de882bfd1",
            "044db8e0f9474fa797606407f74fca82",
            "a07c904a4a9d4265bc5ad1c96353242a",
            "2341175dbc6642e396d2e82622e0ec51",
            "36c284b748af4107bfeef93f696643c3",
            "e6d06ea30186482a94d8ec8ef79c6e6e",
            "cb1cde34d1d6435eb102912a72edec65",
            "a1d8d2b27da04958bcbb2bb1ff11d0ec",
            "b93a2a66a12c4dfbadfba2a14974600e",
            "004f8860e4ee41cd85654d2ae078f283",
            "7f50c4950a7349e0ac97dd2343c507ab",
            "9c2908452706465a9f74067b15a22d6c",
            "f676829b903243c4a0fb24057dea441b",
            "c41488cd5db34951a0de27b22c55adee",
            "0f33e6fa483d4d20a3165e7fbbda389c",
            "a0ce462967d247f5acfaee69c08e3ed6",
            "b4eb0b70db6843f396daf7421873840c"
          ]
        },
        "id": "jiUl1ls51cuW",
        "outputId": "165732bc-dd6d-45fb-c601-9991d8e41f02"
      },
      "outputs": [
        {
          "name": "stdout",
          "output_type": "stream",
          "text": [
            "Better speed can be achieved with apex installed.\n"
          ]
        },
        {
          "data": {
            "application/vnd.jupyter.widget-view+json": {
              "model_id": "76cebcb1be7e49dc9b0f94bd72f19490",
              "version_major": 2,
              "version_minor": 0
            },
            "text/plain": [
              "Downloading:   0%|          | 0.00/272 [00:00<?, ?B/s]"
            ]
          },
          "metadata": {},
          "output_type": "display_data"
        },
        {
          "data": {
            "application/vnd.jupyter.widget-view+json": {
              "model_id": "b2002a5f9e984f1292a63a9ae27bedb9",
              "version_major": 2,
              "version_minor": 0
            },
            "text/plain": [
              "Downloading:   0%|          | 0.00/908 [00:00<?, ?B/s]"
            ]
          },
          "metadata": {},
          "output_type": "display_data"
        },
        {
          "data": {
            "application/vnd.jupyter.widget-view+json": {
              "model_id": "1b48216c17fc43728108567439b124dc",
              "version_major": 2,
              "version_minor": 0
            },
            "text/plain": [
              "Downloading:   0%|          | 0.00/3.54M [00:00<?, ?B/s]"
            ]
          },
          "metadata": {},
          "output_type": "display_data"
        },
        {
          "data": {
            "application/vnd.jupyter.widget-view+json": {
              "model_id": "ef9d45c62cbd4d3f88c8a2033cebd08d",
              "version_major": 2,
              "version_minor": 0
            },
            "text/plain": [
              "Downloading:   0%|          | 0.00/2.31M [00:00<?, ?B/s]"
            ]
          },
          "metadata": {},
          "output_type": "display_data"
        },
        {
          "data": {
            "application/vnd.jupyter.widget-view+json": {
              "model_id": "cb1cde34d1d6435eb102912a72edec65",
              "version_major": 2,
              "version_minor": 0
            },
            "text/plain": [
              "Downloading:   0%|          | 0.00/1.11k [00:00<?, ?B/s]"
            ]
          },
          "metadata": {},
          "output_type": "display_data"
        },
        {
          "data": {
            "text/plain": [
              "[['▁Hello', ',', '▁World', '!']]"
            ]
          },
          "execution_count": 2,
          "metadata": {},
          "output_type": "execute_result"
        }
      ],
      "source": [
        "### Text Handler API quick start\n",
        "import text2text as t2t\n",
        "t2t.Transformer.PRETRAINED_TRANSLATOR = \"facebook/m2m100_418M\" #Remove this line for the larger model\n",
        "h = t2t.Handler([\"Hello, World!\"], src_lang=\"en\") #Initialize with some text\n",
        "h.tokenize() #[['▁Hello', ',', '▁World', '!']]"
      ]
    },
    {
      "cell_type": "code",
      "execution_count": null,
      "metadata": {
        "colab": {
          "base_uri": "https://localhost:8080/",
          "height": 83,
          "referenced_widgets": [
            "855de49d542841a79b3c37fab177abcd",
            "b8f0165de7b04ecbb381628c0ba61b78",
            "5d0fb74494364cc99a44e15a6e3bbb2a",
            "38780981a60d4e87a87eccceb765cc24",
            "64ed2290b2244c279ee94f8b307267a7",
            "de4a1b89a6eb4c4a96221c1fd23853d7",
            "96fbc30bc2b342d8a1d5d4840a87276f",
            "7c7d991970b240d3a8a5696e533bcaab",
            "7160c85bd5eb49e59e910c5e5276f57f",
            "06bad1ba9ae24bd5bad4eda5adb5f0bc",
            "13d1ccd4eae24ad594fca0e447c6fbc9"
          ]
        },
        "id": "kcTKpC5wS7Xs",
        "outputId": "286792b6-9549-4e38-8cef-301c5da779a2"
      },
      "outputs": [
        {
          "data": {
            "application/vnd.jupyter.widget-view+json": {
              "model_id": "855de49d542841a79b3c37fab177abcd",
              "version_major": 2,
              "version_minor": 0
            },
            "text/plain": [
              "Downloading:   0%|          | 0.00/1.80G [00:00<?, ?B/s]"
            ]
          },
          "metadata": {},
          "output_type": "display_data"
        },
        {
          "data": {
            "text/plain": [
              "array([[0.0125036 , 0.00377429, 0.01060266, ..., 0.03131488, 0.04224026,\n",
              "        0.02921941]], dtype=float32)"
            ]
          },
          "execution_count": 3,
          "metadata": {},
          "output_type": "execute_result"
        }
      ],
      "source": [
        "h.vectorize() #array([[0.18745188, 0.05658336, 0.15895301, ..., 0.46946704, 0.6332584 , 0.43805206]], dtype=float32)"
      ]
    },
    {
      "cell_type": "code",
      "execution_count": null,
      "metadata": {
        "colab": {
          "base_uri": "https://localhost:8080/"
        },
        "id": "NtbMwkhTS9ID",
        "outputId": "c415e6f6-0cc2-4852-c3d3-8512d8d6bc0b"
      },
      "outputs": [
        {
          "data": {
            "text/plain": [
              "[{'!': 0.5, ',': 0.5, '▁Hello': 0.5, '▁World': 0.5}]"
            ]
          },
          "execution_count": 4,
          "metadata": {},
          "output_type": "execute_result"
        }
      ],
      "source": [
        "h.tfidf() #[{'!': 0.5, ',': 0.5, '▁Hello': 0.5, '▁World': 0.5}]"
      ]
    },
    {
      "cell_type": "code",
      "execution_count": null,
      "metadata": {
        "colab": {
          "base_uri": "https://localhost:8080/"
        },
        "id": "PZd0nkVVnsYU",
        "outputId": "3e285eda-be9f-423d-afa0-440159918145"
      },
      "outputs": [
        {
          "data": {
            "text/plain": [
              "[{'!': 0.3068528194400547,\n",
              "  ',': 0.3068528194400547,\n",
              "  '▁Hello': 0.3068528194400547,\n",
              "  '▁World': 0.3068528194400547}]"
            ]
          },
          "execution_count": 5,
          "metadata": {},
          "output_type": "execute_result"
        }
      ],
      "source": [
        "h.bm25() #[{'!': 0.5, ',': 0.5, '▁Hello': 0.5, '▁World': 0.5}]"
      ]
    },
    {
      "cell_type": "code",
      "source": [
        "i = h.index() #Index object for similarity retrieval"
      ],
      "metadata": {
        "id": "IN0Un-Cu61WZ"
      },
      "execution_count": null,
      "outputs": []
    },
    {
      "cell_type": "code",
      "execution_count": null,
      "metadata": {
        "colab": {
          "base_uri": "https://localhost:8080/"
        },
        "id": "E54pZP2lS-Nz",
        "outputId": "eba1d9be-7f69-4b48-ac5d-f6bf4f3e22aa"
      },
      "outputs": [
        {
          "data": {
            "text/plain": [
              "array([[0.09415865]])"
            ]
          },
          "execution_count": 6,
          "metadata": {},
          "output_type": "execute_result"
        }
      ],
      "source": [
        "h.search(queries=[\"Hello\"]).toarray() #array([[0.5]])"
      ]
    },
    {
      "cell_type": "code",
      "execution_count": null,
      "metadata": {
        "colab": {
          "base_uri": "https://localhost:8080/"
        },
        "id": "ceb_OD6-S_Lx",
        "outputId": "a697c36c-d1d6-4ef3-dc7e-4cbe8f2f43c3"
      },
      "outputs": [
        {
          "data": {
            "text/plain": [
              "['你好,世界!']"
            ]
          },
          "execution_count": 8,
          "metadata": {},
          "output_type": "execute_result"
        }
      ],
      "source": [
        "h.translate(tgt_lang=\"zh\") #['你好,世界!']"
      ]
    },
    {
      "cell_type": "code",
      "execution_count": null,
      "metadata": {
        "id": "jFWWM9jFTAat"
      },
      "outputs": [],
      "source": [
        "h.summarize() #[\"World ' s largest world\"]"
      ]
    },
    {
      "cell_type": "code",
      "execution_count": null,
      "metadata": {
        "colab": {
          "base_uri": "https://localhost:8080/"
        },
        "id": "T6bEcoNCTBt7",
        "outputId": "6544cb7f-ef43-4586-9e3e-91a345a6da89"
      },
      "outputs": [
        {
          "name": "stderr",
          "output_type": "stream",
          "text": [
            "100%|██████████| 1/1 [00:02<00:00,  2.09s/it]\n"
          ]
        },
        {
          "data": {
            "text/plain": [
              "[('What is the name of the person who is in charge of the world?', 'hello')]"
            ]
          },
          "execution_count": 10,
          "metadata": {},
          "output_type": "execute_result"
        }
      ],
      "source": [
        "h.question() #[('What is the name of the world you are in?', 'The world')]"
      ]
    },
    {
      "cell_type": "code",
      "execution_count": null,
      "metadata": {
        "colab": {
          "background_save": true
        },
        "id": "I9CDJUZ0TCVj",
        "outputId": "c71b5dee-76a0-487b-cdad-a4b848632fdc"
      },
      "outputs": [
        {
          "data": {
            "text/plain": [
              "['Hello the world!',\n",
              " 'My brother and sister!',\n",
              " 'Welcome to the world!',\n",
              " 'Hello, the world',\n",
              " '“No to the world”',\n",
              " 'It is clearly!',\n",
              " 'Welcome to the light!',\n",
              " 'Hello to the world!',\n",
              " 'Hello to the world!',\n",
              " 'Hello, it’s a good thing!',\n",
              " 'Congratulations to all!',\n",
              " 'Hello to the world!',\n",
              " 'Hello to the world!',\n",
              " 'Good Morning, the World',\n",
              " 'Welcome to the World!',\n",
              " 'Hello the world!',\n",
              " 'Hello the world!',\n",
              " 'Good morning to the world!',\n",
              " 'Hello, World!',\n",
              " 'Hello the world!',\n",
              " 'Fortunately the world!',\n",
              " 'Hello to the world!',\n",
              " 'We do it!',\n",
              " 'Welcome to the world!',\n",
              " 'Hello to the world!',\n",
              " 'Go to the world!',\n",
              " 'Member of the Board of Directors of the Board of Directors of the Board of Directors of the Board of Directors',\n",
              " 'The world.',\n",
              " 'Hello to the world!',\n",
              " 'and it is!',\n",
              " 'Hello, for the world!',\n",
              " 'Hello to the world!',\n",
              " 'Hello to the world!',\n",
              " 'Hello to the world!',\n",
              " 'Hello to the world!',\n",
              " 'Hello to the world!',\n",
              " 'Welcome to the world!',\n",
              " 'Congratulations to the world!',\n",
              " 'Hello to the World!',\n",
              " 'Around the world!',\n",
              " 'Well and well!',\n",
              " 'Hello to the world!',\n",
              " 'Hello to the world!',\n",
              " 'Congratulations to you!',\n",
              " 'Go to the world!',\n",
              " 'I am I am I am!',\n",
              " 'and the air!',\n",
              " 'and it is the one!',\n",
              " 'Hello the world!',\n",
              " 'Hello the world!',\n",
              " 'Hello, movie!',\n",
              " 'Moko!',\n",
              " 'Home » World!',\n",
              " 'Hello and the world!',\n",
              " 'Hello the world!',\n",
              " 'You are here in the world!',\n",
              " 'Hello to the world!',\n",
              " 'Hello the world!',\n",
              " 'The latest!',\n",
              " 'Hello to the world!',\n",
              " 'Welcome to the world!',\n",
              " 'The house!',\n",
              " 'Hello to the world!',\n",
              " 'Hello the world!',\n",
              " 'Hello the world!',\n",
              " 'Smooth!',\n",
              " 'Hello to the world!',\n",
              " 'It is the truth, it is the truth, it is the truth, it is the truth, it is the truth, it is the truth, it is the truth, it is the truth, it is the truth, it is the truth, it is the truth.',\n",
              " 'Hello, Europe!',\n",
              " 'Hello the world!',\n",
              " 'in the world!',\n",
              " 'Hello to the world!',\n",
              " 'Good day to the world!',\n",
              " 'Hello to the world!',\n",
              " 'Hello to the world!',\n",
              " 'Congratulations to the world!',\n",
              " 'Good Morning World!',\n",
              " 'Hello to the world!',\n",
              " 'Aaaaaaaaa',\n",
              " 'Hello to the world!',\n",
              " 'Welcome to the world!',\n",
              " 'Issues',\n",
              " 'In the words of the',\n",
              " 'Hello the world!',\n",
              " 'Hello to the world!',\n",
              " 'Hello to the world!',\n",
              " 'Hello world!',\n",
              " 'Hello to the world!',\n",
              " 'The name!',\n",
              " 'Hello the world!',\n",
              " 'I am in the world!',\n",
              " 'Hello to the world!',\n",
              " 'Hello O’Y’Y’Y!',\n",
              " 'Hello to the world!',\n",
              " 'Wish!',\n",
              " 'First of all!',\n",
              " 'Hello to the world!',\n",
              " 'It is there!',\n",
              " 'Hello the world!',\n",
              " 'First of all!']"
            ]
          },
          "execution_count": null,
          "metadata": {},
          "output_type": "execute_result"
        }
      ],
      "source": [
        "h.variate() #['Hello the world!', 'Welcome to the world.', 'Hello to the world!',..."
      ]
    },
    {
      "cell_type": "code",
      "execution_count": null,
      "metadata": {
        "colab": {
          "background_save": true,
          "referenced_widgets": [
            "68dc6eb72e05444fb53700220dc72858",
            "1aeff12d2f504c8391ba998961f9e6ad",
            "a937f9cd291f4544b200555080dd32f4",
            "bf38702e64254a598746b1970d7c6dbc",
            "7b3b73aa219e45bab0c3c728daafbd68",
            "a4478c7cf309401d9f306afe57181ec0"
          ]
        },
        "id": "1IbuXQ0HTEbc",
        "outputId": "977204b4-6f06-43e9-8494-e44f9263d57e"
      },
      "outputs": [
        {
          "data": {
            "application/vnd.jupyter.widget-view+json": {
              "model_id": "68dc6eb72e05444fb53700220dc72858",
              "version_major": 2,
              "version_minor": 0
            },
            "text/plain": [
              "Downloading:   0%|          | 0.00/26.0 [00:00<?, ?B/s]"
            ]
          },
          "metadata": {},
          "output_type": "display_data"
        },
        {
          "data": {
            "application/vnd.jupyter.widget-view+json": {
              "model_id": "1aeff12d2f504c8391ba998961f9e6ad",
              "version_major": 2,
              "version_minor": 0
            },
            "text/plain": [
              "Downloading:   0%|          | 0.00/757 [00:00<?, ?B/s]"
            ]
          },
          "metadata": {},
          "output_type": "display_data"
        },
        {
          "data": {
            "application/vnd.jupyter.widget-view+json": {
              "model_id": "a937f9cd291f4544b200555080dd32f4",
              "version_major": 2,
              "version_minor": 0
            },
            "text/plain": [
              "Downloading:   0%|          | 0.00/780k [00:00<?, ?B/s]"
            ]
          },
          "metadata": {},
          "output_type": "display_data"
        },
        {
          "data": {
            "application/vnd.jupyter.widget-view+json": {
              "model_id": "bf38702e64254a598746b1970d7c6dbc",
              "version_major": 2,
              "version_minor": 0
            },
            "text/plain": [
              "Downloading:   0%|          | 0.00/446k [00:00<?, ?B/s]"
            ]
          },
          "metadata": {},
          "output_type": "display_data"
        },
        {
          "data": {
            "application/vnd.jupyter.widget-view+json": {
              "model_id": "7b3b73aa219e45bab0c3c728daafbd68",
              "version_major": 2,
              "version_minor": 0
            },
            "text/plain": [
              "Downloading:   0%|          | 0.00/150 [00:00<?, ?B/s]"
            ]
          },
          "metadata": {},
          "output_type": "display_data"
        },
        {
          "data": {
            "application/vnd.jupyter.widget-view+json": {
              "model_id": "a4478c7cf309401d9f306afe57181ec0",
              "version_major": 2,
              "version_minor": 0
            },
            "text/plain": [
              "Downloading:   0%|          | 0.00/567M [00:00<?, ?B/s]"
            ]
          },
          "metadata": {},
          "output_type": "display_data"
        },
        {
          "data": {
            "text/plain": [
              "['World']"
            ]
          },
          "execution_count": null,
          "metadata": {},
          "output_type": "execute_result"
        }
      ],
      "source": [
        "t2t.Handler([\"Hello, World! [SEP] Hello, what?\"]).answer() #['World']"
      ]
    },
    {
      "cell_type": "code",
      "execution_count": null,
      "metadata": {
        "colab": {
          "background_save": true
        },
        "id": "8V3geqhhTFdc",
        "outputId": "88a2e3a6-a818-4c5a-f314-a8a40335710f"
      },
      "outputs": [
        {
          "data": {
            "text/plain": [
              "[2]"
            ]
          },
          "execution_count": null,
          "metadata": {},
          "output_type": "execute_result"
        }
      ],
      "source": [
        "t2t.Handler([\"Hello, World! [SEP] Hello, what?\"]).measure() #[2]"
      ]
    },
    {
      "cell_type": "code",
      "execution_count": null,
      "metadata": {
        "colab": {
          "base_uri": "https://localhost:8080/"
        },
        "id": "F0RWWWrM83ov",
        "outputId": "468b89cf-2458-42e2-eccf-fed799cbb96a"
      },
      "outputs": [
        {
          "data": {
            "text/plain": [
              "{'af': 'Afrikaans',\n",
              " 'am': 'Amharic',\n",
              " 'ar': 'Arabic',\n",
              " 'ast': 'Asturian',\n",
              " 'az': 'Azerbaijani',\n",
              " 'ba': 'Bashkir',\n",
              " 'be': 'Belarusian',\n",
              " 'bg': 'Bulgarian',\n",
              " 'bn': 'Bengali',\n",
              " 'br': 'Breton',\n",
              " 'bs': 'Bosnian',\n",
              " 'ca': 'Catalan_Valencian',\n",
              " 'ceb': 'Cebuano',\n",
              " 'cs': 'Czech',\n",
              " 'cy': 'Welsh',\n",
              " 'da': 'Danish',\n",
              " 'de': 'German',\n",
              " 'el': 'Greeek',\n",
              " 'en': 'English',\n",
              " 'es': 'Spanish',\n",
              " 'et': 'Estonian',\n",
              " 'fa': 'Persian',\n",
              " 'ff': 'Fulah',\n",
              " 'fi': 'Finnish',\n",
              " 'fr': 'French',\n",
              " 'fy': 'Western_Frisian',\n",
              " 'ga': 'Irish',\n",
              " 'gd': 'Gaelic_Scottish_Gaelic',\n",
              " 'gl': 'Galician',\n",
              " 'gu': 'Gujarati',\n",
              " 'ha': 'Hausa',\n",
              " 'he': 'Hebrew',\n",
              " 'hi': 'Hindi',\n",
              " 'hr': 'Croatian',\n",
              " 'ht': 'Haitian_Haitian_Creole',\n",
              " 'hu': 'Hungarian',\n",
              " 'hy': 'Armenian',\n",
              " 'id': 'Indonesian',\n",
              " 'ig': 'Igbo',\n",
              " 'ilo': 'Iloko',\n",
              " 'is': 'Icelandic',\n",
              " 'it': 'Italian',\n",
              " 'ja': 'Japanese',\n",
              " 'jv': 'Javanese',\n",
              " 'ka': 'Georgian',\n",
              " 'kk': 'Kazakh',\n",
              " 'km': 'Central_Khmer',\n",
              " 'kn': 'Kannada',\n",
              " 'ko': 'Korean',\n",
              " 'lb': 'Luxembourgish_Letzeburgesch',\n",
              " 'lg': 'Ganda',\n",
              " 'ln': 'Lingala',\n",
              " 'lo': 'Lao',\n",
              " 'lt': 'Lithuanian',\n",
              " 'lv': 'Latvian',\n",
              " 'mg': 'Malagasy',\n",
              " 'mk': 'Macedonian',\n",
              " 'ml': 'Malayalam',\n",
              " 'mn': 'Mongolian',\n",
              " 'mr': 'Marathi',\n",
              " 'ms': 'Malay',\n",
              " 'my': 'Burmese',\n",
              " 'ne': 'Nepali',\n",
              " 'nl': 'Dutch_Flemish',\n",
              " 'no': 'Norwegian',\n",
              " 'ns': 'Northern_Sotho',\n",
              " 'oc': 'Occitan',\n",
              " 'or': 'Oriya',\n",
              " 'pa': 'Panjabi_Punjabi',\n",
              " 'pl': 'Polish',\n",
              " 'ps': 'Pushto_Pashto',\n",
              " 'pt': 'Portuguese',\n",
              " 'ro': 'Romanian_Moldavian_Moldovan',\n",
              " 'ru': 'Russian',\n",
              " 'sd': 'Sindhi',\n",
              " 'si': 'Sinhala_Sinhalese',\n",
              " 'sk': 'Slovak',\n",
              " 'sl': 'Slovenian',\n",
              " 'so': 'Somali',\n",
              " 'sq': 'Albanian',\n",
              " 'sr': 'Serbian',\n",
              " 'ss': 'Swati',\n",
              " 'su': 'Sundanese',\n",
              " 'sv': 'Swedish',\n",
              " 'sw': 'Swahili',\n",
              " 'ta': 'Tamil',\n",
              " 'th': 'Thai',\n",
              " 'tl': 'Tagalog',\n",
              " 'tn': 'Tswana',\n",
              " 'tr': 'Turkish',\n",
              " 'uk': 'Ukrainian',\n",
              " 'ur': 'Urdu',\n",
              " 'uz': 'Uzbek',\n",
              " 'vi': 'Vietnamese',\n",
              " 'wo': 'Wolof',\n",
              " 'xh': 'Xhosa',\n",
              " 'yi': 'Yiddish',\n",
              " 'yo': 'Yoruba',\n",
              " 'zh': 'Chinese',\n",
              " 'zu': 'Zulu'}"
            ]
          },
          "execution_count": 3,
          "metadata": {
            "tags": []
          },
          "output_type": "execute_result"
        }
      ],
      "source": [
        "### Languages Available\n",
        "t2t.Transformer.LANGUAGES"
      ]
    },
    {
      "cell_type": "code",
      "execution_count": null,
      "metadata": {
        "id": "bG6oRnav9G__"
      },
      "outputs": [],
      "source": [
        "# Sample texts\n",
        "article_en = 'The Secretary-General of the United Nations says there is no military solution in Syria.'\n",
        " \n",
        "notre_dame_str = \"As at most other universities, Notre Dame's students run a number of news media outlets. The nine student - run outlets include three newspapers, both a radio and television station, and several magazines and journals. Begun as a one - page journal in September 1876, the Scholastic magazine is issued twice monthly and claims to be the oldest continuous collegiate publication in the United States. The other magazine, The Juggler, is released twice a year and focuses on student literature and artwork. The Dome yearbook is published annually. The newspapers have varying publication interests, with The Observer published daily and mainly reporting university and other news, and staffed by students from both Notre Dame and Saint Mary's College. Unlike Scholastic and The Dome, The Observer is an independent publication and does not have a faculty advisor or any editorial oversight from the University. In 1987, when some students believed that The Observer began to show a conservative bias, a liberal newspaper, Common Sense was published. Likewise, in 2003, when other students believed that the paper showed a liberal bias, the conservative paper Irish Rover went into production. Neither paper is published as often as The Observer; however, all three are distributed to all students. Finally, in Spring 2008 an undergraduate journal for political science research, Beyond Politics, made its debut.\"\n",
        " \n",
        "bacteria_str = \"Bacteria are a type of biological cell. They constitute a large domain of prokaryotic microorganisms. Typically a few micrometres in length, bacteria have a number of shapes, ranging from spheres to rods and spirals. Bacteria were among the first life forms to appear on Earth, and are present in most of its habitats.\"\n",
        " \n",
        "bio_str = \"Biology is the science that studies life. What exactly is life? This may sound like a silly question with an obvious answer, but it is not easy to define life. For example, a branch of biology called virology studies viruses, which exhibit some of the characteristics of living entities but lack others. It turns out that although viruses can attack living organisms, cause diseases, and even reproduce, they do not meet the criteria that biologists use to define life.\"\n",
        " "
      ]
    },
    {
      "cell_type": "code",
      "execution_count": null,
      "metadata": {
        "colab": {
          "base_uri": "https://localhost:8080/"
        },
        "id": "csZPSwelA5ya",
        "outputId": "bc74259c-a3ed-4bd9-b967-855864868750"
      },
      "outputs": [
        {
          "data": {
            "text/plain": [
              "[['▁Let', \"'\", 's', '▁go', '▁hik', 'ing', '▁tom', 'orrow'],\n",
              " ['▁안녕', '하세요', '.'],\n",
              " ['▁', '돼', '지', '꿈', '을', '▁꾸', '세요', '~~']]"
            ]
          },
          "execution_count": 5,
          "metadata": {
            "tags": []
          },
          "output_type": "execute_result"
        }
      ],
      "source": [
        "### Tokenization\n",
        "t2t.Handler([\n",
        "         \"Let's go hiking tomorrow\", \n",
        "         \"안녕하세요.\", \n",
        "         \"돼지꿈을 꾸세요~~\"\n",
        "         ]).tokenize()"
      ]
    },
    {
      "cell_type": "code",
      "execution_count": null,
      "metadata": {
        "id": "-wQq61LXWsQG"
      },
      "outputs": [],
      "source": [
        "# Embeddings\n",
        "t2t.Handler([\n",
        "         \"Let's go hiking tomorrow\", \n",
        "         \"안녕하세요.\", \n",
        "         \"돼지꿈을 꾸세요~~\"\n",
        "         ]).vectorize()"
      ]
    },
    {
      "cell_type": "code",
      "execution_count": null,
      "metadata": {
        "colab": {
          "base_uri": "https://localhost:8080/"
        },
        "id": "3x0ebuQ6SXh5",
        "outputId": "0207fdb2-a781-4bf9-9027-6105041965a1"
      },
      "outputs": [
        {
          "data": {
            "text/plain": [
              "[{\"'\": 0.3535533905932738,\n",
              "  'ing': 0.3535533905932738,\n",
              "  'orrow': 0.3535533905932738,\n",
              "  's': 0.3535533905932738,\n",
              "  '▁Let': 0.3535533905932738,\n",
              "  '▁go': 0.3535533905932738,\n",
              "  '▁hik': 0.3535533905932738,\n",
              "  '▁tom': 0.3535533905932738},\n",
              " {'.': 0.5773502691896258,\n",
              "  '▁안녕': 0.5773502691896258,\n",
              "  '하세요': 0.5773502691896258},\n",
              " {'~~': 0.3535533905932738,\n",
              "  '▁': 0.3535533905932738,\n",
              "  '▁꾸': 0.3535533905932738,\n",
              "  '꿈': 0.3535533905932738,\n",
              "  '돼': 0.3535533905932738,\n",
              "  '세요': 0.3535533905932738,\n",
              "  '을': 0.3535533905932738,\n",
              "  '지': 0.3535533905932738}]"
            ]
          },
          "execution_count": 7,
          "metadata": {
            "tags": []
          },
          "output_type": "execute_result"
        }
      ],
      "source": [
        "### TF-IDF\n",
        "t2t.Handler([\n",
        "         \"Let's go hiking tomorrow\", \n",
        "         \"안녕하세요.\", \n",
        "         \"돼지꿈을 꾸세요~~\"\n",
        "         ]).tfidf()"
      ]
    },
    {
      "cell_type": "code",
      "execution_count": null,
      "metadata": {
        "id": "K7QXWSjpn7HN"
      },
      "outputs": [],
      "source": [
        "### BM25\n",
        "t2t.Handler([\n",
        "         \"Let's go hiking tomorrow\", \n",
        "         \"안녕하세요.\", \n",
        "         \"돼지꿈을 꾸세요~~\"\n",
        "         ]).bm25()"
      ]
    },
    {
      "cell_type": "code",
      "source": [
        "### Index\n",
        "index = t2t.Handler([\n",
        "         \"Let's go hiking tomorrow, let's go!\", \n",
        "         \"안녕하세요.\", \n",
        "         \"돼지꿈을 꾸세요~~\",\n",
        "         ]).index(ids=[100, 101, 102])\n",
        "\n",
        "index.search([\"돼지\", \"안녕\", \"let's go\"], k=1) # Matching L2 distances and corresponding ids"
      ],
      "metadata": {
        "id": "jWTF88R46-au"
      },
      "execution_count": null,
      "outputs": []
    },
    {
      "cell_type": "code",
      "source": [
        "# Add documents incrementing on ids if none specified\n",
        "index.add([\"Hello, World! 你好,世界!\"])\n",
        "\n",
        "# Remove by ids\n",
        "index.remove([101])\n",
        "\n",
        "# Retrieve k results per query sorted by distance\n",
        "index.search([\"你好, World\"], k=3)"
      ],
      "metadata": {
        "id": "An9GPkpj7DSu"
      },
      "execution_count": null,
      "outputs": []
    },
    {
      "cell_type": "code",
      "execution_count": null,
      "metadata": {
        "colab": {
          "base_uri": "https://localhost:8080/"
        },
        "id": "5tum24sLSy6g",
        "outputId": "171d7709-41c5-4d82-85e6-696a71706c4c"
      },
      "outputs": [
        {
          "data": {
            "text/plain": [
              "array([[0.4472136 , 0.        , 0.        ],\n",
              "       [0.        , 0.57735027, 0.        ]])"
            ]
          },
          "execution_count": 13,
          "metadata": {
            "tags": []
          },
          "output_type": "execute_result"
        }
      ],
      "source": [
        "### Search\n",
        "t2t.Handler([\n",
        "         \"Let's go hiking tomorrow, let's go!\", \n",
        "         \"안녕하세요.\", \n",
        "         \"돼지꿈을 꾸세요~~\",\n",
        "         ]).search(queries=[\"go\", \"안녕\"]).toarray()"
      ]
    },
    {
      "cell_type": "code",
      "execution_count": null,
      "metadata": {
        "id": "JW66Xh6ioRY9"
      },
      "outputs": [],
      "source": [
        "#### Multiple queries on a single index\n",
        "bm25_index = t2t.Handler([\n",
        "                       article_en, \n",
        "                       notre_dame_str, \n",
        "                       bacteria_str, \n",
        "                       bio_str\n",
        "                       ]).bm25(output=\"matrix\")\n",
        "\n",
        "search_results_bm25_1 = t2t.Handler().search(\n",
        "    queries=[\"wonderful life\", \"university students\"], \n",
        "    vector_class=t2t.Bm25er,\n",
        "    index=bm25_index)\n",
        "\n",
        "search_results_bm25_2 = t2t.Handler().search(\n",
        "    queries=[\"Earth creatures are cool\", \"United Nations\"], \n",
        "    vector_class=t2t.Bm25er,\n",
        "    index=bm25_index)"
      ]
    },
    {
      "cell_type": "code",
      "execution_count": null,
      "metadata": {
        "id": "mZI-8SwWyPKJ"
      },
      "outputs": [],
      "source": [
        "#### Using TF-DF embeddings index\n",
        "tfidf_index = t2t.Handler([\n",
        "                       article_en, \n",
        "                       notre_dame_str, \n",
        "                       bacteria_str, \n",
        "                       bio_str\n",
        "                       ]).tfidf(output=\"matrix\")\n",
        "\n",
        "search_results_tf1 = t2t.Handler().search(\n",
        "    queries=[\"wonderful life\", \"university students\"], \n",
        "    vector_class=t2t.Tfidfer,\n",
        "    index=tfidf_index)\n",
        "\n",
        "search_results_tf2 = t2t.Handler().search(\n",
        "    queries=[\"Earth creatures are cool\", \"United Nations\"], \n",
        "    vector_class=t2t.Tfidfer,\n",
        "    index=tfidf_index)"
      ]
    },
    {
      "cell_type": "code",
      "execution_count": null,
      "metadata": {
        "id": "sTOS6drtoxgC"
      },
      "outputs": [],
      "source": [
        "#### Using neural embeddings index\n",
        "embedding_index = t2t.Handler([\n",
        "                       article_en, \n",
        "                       notre_dame_str, \n",
        "                       bacteria_str, \n",
        "                       bio_str\n",
        "                       ]).vectorize()\n",
        "\n",
        "search_results_em1 = t2t.Handler().search(\n",
        "    queries=[\"wonderful life\", \"university students\"],\n",
        "    vector_class=t2t.Vectorizer,\n",
        "    index=embedding_index)\n",
        "\n",
        "search_results_em2 = t2t.Handler().search(\n",
        "    queries=[\"Earth creatures are cool\", \"United Nations\"],\n",
        "    vector_class=t2t.Vectorizer,\n",
        "    index=embedding_index)"
      ]
    },
    {
      "cell_type": "code",
      "execution_count": null,
      "metadata": {
        "colab": {
          "base_uri": "https://localhost:8080/"
        },
        "id": "IeGPKEL6tWon",
        "outputId": "5cf6bacc-eabd-40e5-f62c-5fb4e04f9bf2"
      },
      "outputs": [
        {
          "data": {
            "text/plain": [
              "array([[ 0.00729176, -0.02835486,  0.0024925 ,  0.08656652],\n",
              "       [ 0.06525719,  0.13328168,  0.0185835 ,  0.01900256]])"
            ]
          },
          "execution_count": 19,
          "metadata": {
            "tags": []
          },
          "output_type": "execute_result"
        }
      ],
      "source": [
        "#### Blending neural embeddings and tf-idf\n",
        "import numpy as np\n",
        "\n",
        "np.mean( \n",
        "    np.array([\n",
        "              search_results_bm25_1,\n",
        "              search_results_tf1,\n",
        "              search_results_em1,\n",
        "              ]), axis=0)\n",
        "\n",
        "# averaged scores matrix\n",
        "matrix([[ 0.00486117, -0.01890325,  0.53769584,  0.82506883],\n",
        "        [ 0.0435048 ,  1.68977281,  0.01238902,  0.01266839]])"
      ]
    },
    {
      "cell_type": "code",
      "execution_count": null,
      "metadata": {
        "colab": {
          "base_uri": "https://localhost:8080/"
        },
        "id": "YbS4ZpU7GA3T",
        "outputId": "0ebb27bb-6cda-41b4-9e46-77b27750bdd9"
      },
      "outputs": [
        {
          "data": {
            "text/plain": [
              "[2, 8]"
            ]
          },
          "execution_count": 15,
          "metadata": {
            "tags": []
          },
          "output_type": "execute_result"
        }
      ],
      "source": [
        "### Levenshtein Sub-word Edit Distance\n",
        "t2t.Handler([\n",
        "         \"Hello, World! [SEP] Hello, what?\", \n",
        "         \"안녕하세요. [SEP] 돼지꿈을 꾸세요~~\"\n",
        "        ]).measure(metric=\"levenshtein_distance\")"
      ]
    },
    {
      "cell_type": "code",
      "execution_count": null,
      "metadata": {
        "id": "Vk-F8sYK9EfJ"
      },
      "outputs": [],
      "source": [
        "### Translation\n",
        "# Default translator model\n",
        "t2t.Handler([article_en, notre_dame_str, bacteria_str, bio_str], src_lang='en').translate(tgt_lang='zh')"
      ]
    },
    {
      "cell_type": "code",
      "execution_count": null,
      "metadata": {
        "id": "5OfyLZZg4wrT"
      },
      "outputs": [],
      "source": [
        "# Smaller model to save time and memory for development\n",
        "t2t.Transformer.PRETRAINED_TRANSLATOR = \"facebook/m2m100_418M\"\n",
        "t2t.Handler([\"I would like to go hiking tomorrow.\"], \n",
        "        src_lang=\"en\"\n",
        "        ).translate(tgt_lang='zh')\n"
      ]
    },
    {
      "cell_type": "code",
      "execution_count": null,
      "metadata": {
        "id": "6mxiqy764xa1"
      },
      "outputs": [],
      "source": [
        "# Smaller model to save time and memory for development\n",
        "# Note language code difference\n",
        "t2t.Transformer.PRETRAINED_TRANSLATOR = \"facebook/mbart-large-50-many-to-many-mmt\"\n",
        "t2t.Transformer.LANGUAGES = {\n",
        "  'af_ZA': 'Afrikaans',\n",
        "  'ar_AR': 'Arabic',\n",
        "  'az_AZ': 'Azerbaijani',\n",
        "  'bn_IN': 'Bengali',\n",
        "  'cs_CZ': 'Czech',\n",
        "  'de_DE': 'German',\n",
        "  'en_XX': 'English',\n",
        "  'es_XX': 'Spanish',\n",
        "  'et_EE': 'Estonian',\n",
        "  'fa_IR': 'Persian',\n",
        "  'fi_FI': 'Finnish',\n",
        "  'fr_XX': 'French',\n",
        "  'gl_ES': 'Galician',\n",
        "  'gu_IN': 'Gujarati',\n",
        "  'he_IL': 'Hebrew',\n",
        "  'hi_IN': 'Hindi',\n",
        "  'hr_HR': 'Croatian',\n",
        "  'id_ID': 'Indonesian',\n",
        "  'it_IT': 'Italian',\n",
        "  'ja_XX': 'Japanese',\n",
        "  'ka_GE': 'Georgian',\n",
        "  'kk_KZ': 'Kazakh',\n",
        "  'km_KH': 'Khmer',\n",
        "  'ko_KR': 'Korean',\n",
        "  'lt_LT': 'Lithuanian',\n",
        "  'lv_LV': 'Latvian',\n",
        "  'mk_MK': 'Macedonian',\n",
        "  'ml_IN': 'Malayalam',\n",
        "  'mn_MN': 'Mongolian',\n",
        "  'mr_IN': 'Marathi',\n",
        "  'my_MM': 'Burmese',\n",
        "  'ne_NP': 'Nepali',\n",
        "  'nl_XX': 'Dutch',\n",
        "  'pl_PL': 'Polish',\n",
        "  'ps_AF': 'Pashto',\n",
        "  'pt_XX': 'Portuguese',\n",
        "  'ro_RO': 'Romanian',\n",
        "  'ru_RU': 'Russian',\n",
        "  'si_LK': 'Sinhala',\n",
        "  'sl_SI': 'Slovene',\n",
        "  'sv_SE': 'Swedish',\n",
        "  'sw_KE': 'Swahili',\n",
        "  'ta_IN': 'Tamil',\n",
        "  'te_IN': 'Telugu',\n",
        "  'th_TH': 'Thai',\n",
        "  'tl_XX': 'Tagalog',\n",
        "  'tr_TR': 'Turkish',\n",
        "  'uk_UA': 'Ukrainian',\n",
        "  'ur_PK': 'Urdu',\n",
        "  'vi_VN': 'Vietnamese',\n",
        "  'xh_ZA': 'Xhosa',\n",
        "  'zh_CN': 'Chinese'\n",
        "}\n",
        "t2t.Handler([\"I would like to go hiking tomorrow.\"], \n",
        "        src_lang=\"en_XX\"\n",
        "        ).translate(tgt_lang='zh_CN')\n"
      ]
    },
    {
      "cell_type": "code",
      "execution_count": null,
      "metadata": {
        "id": "ITtEcKlPWPXR"
      },
      "outputs": [],
      "source": [
        "### Question Answering. Question must follow context with ` [SEP] ` in between.\n",
        "t2t.Handler([\n",
        "         \"Hello, this is Text2Text! [SEP] What is this?\", \n",
        "         \"It works very well. It's awesome! [SEP] How is it?\"\n",
        "         ]).answer()"
      ]
    },
    {
      "cell_type": "code",
      "execution_count": null,
      "metadata": {
        "id": "GHAFY6aJOtQQ"
      },
      "outputs": [],
      "source": [
        "t2t.Handler([\"很喜欢陈慧琳唱歌。[SEP] 喜欢做什么?\"], \n",
        "        src_lang=\"zh\",\n",
        "        ).answer()"
      ]
    },
    {
      "cell_type": "code",
      "execution_count": null,
      "metadata": {
        "id": "dF_NSzaKPjs2"
      },
      "outputs": [],
      "source": [
        "### Question Generation\n",
        "t2t.Handler([\n",
        "            bio_str,\n",
        "            bio_str,\n",
        "            bio_str,\n",
        "            bio_str,\n",
        "            bio_str,\n",
        "            \"I will go to school today to take my math exam.\",\n",
        "            \"I will go to school today to take my math exam.\",\n",
        "            \"Tomorrow is my cousin's birthday. He will turn 24 years old.\",\n",
        "            notre_dame_str,\n",
        "            bacteria_str,\n",
        "            bacteria_str,\n",
        "            bacteria_str,\n",
        "            \"I will go to school today to take my math exam. [SEP] school\",\n",
        "            \"I will go to school today to take my math exam. [SEP] exam\",\n",
        "            \"I will go to school today to take my math exam. [SEP] math\",\n",
        "          ], src_lang='en').question()"
      ]
    },
    {
      "cell_type": "code",
      "execution_count": null,
      "metadata": {
        "id": "GgCh6Co1mDry"
      },
      "outputs": [],
      "source": [
        "t2t.Handler([\"很喜欢陈慧琳唱歌。\"], src_lang='zh').question()"
      ]
    },
    {
      "cell_type": "code",
      "execution_count": null,
      "metadata": {
        "id": "JRBEPBFBvBqe"
      },
      "outputs": [],
      "source": [
        "### Summarization\n",
        "t2t.Handler([notre_dame_str, bacteria_str, bio_str], src_lang='en').summarize()"
      ]
    },
    {
      "cell_type": "code",
      "execution_count": null,
      "metadata": {
        "id": "--62SmM89Ymd"
      },
      "outputs": [],
      "source": [
        "### Variation\n",
        "# Useful for augmenting training data\n",
        "t2t.Handler([bacteria_str], src_lang='en').variate()"
      ]
    },
    {
      "cell_type": "code",
      "execution_count": null,
      "metadata": {
        "id": "v-YPGSntzLKk"
      },
      "outputs": [],
      "source": [
        "### Training / Fine-tuning\n",
        "# Finetune cross-lingual model on your data\n",
        "result = t2t.Handler([\"Hello, World! [TGT] 你好,世界!\"], \n",
        "            src_lang=\"en\",\n",
        "            tgt_lang=\"zh\",\n",
        "            num_epochs=10, \n",
        "            save_directory=\"model_dir\"\n",
        "            ).fit()\n",
        "\n",
        "# load and use model from saved directory\n",
        "t2t.Transformer.PRETRAINED_TRANSLATOR = \"model_dir\"\n",
        "t2t.Handler(\"Hello, World!\").translate(tgt_lang=\"zh\")"
      ]
    }
  ],
  "metadata": {
    "accelerator": "GPU",
    "colab": {
      "collapsed_sections": [],
      "machine_shape": "hm",
      "provenance": []
    },
    "kernelspec": {
      "display_name": "Python 3",
      "name": "python3"
    },
    "widgets": {
      "application/vnd.jupyter.widget-state+json": {
        "004f8860e4ee41cd85654d2ae078f283": {
          "model_module": "@jupyter-widgets/controls",
          "model_module_version": "1.5.0",
          "model_name": "HTMLModel",
          "state": {
            "_dom_classes": [],
            "_model_module": "@jupyter-widgets/controls",
            "_model_module_version": "1.5.0",
            "_model_name": "HTMLModel",
            "_view_count": null,
            "_view_module": "@jupyter-widgets/controls",
            "_view_module_version": "1.5.0",
            "_view_name": "HTMLView",
            "description": "",
            "description_tooltip": null,
            "layout": "IPY_MODEL_a0ce462967d247f5acfaee69c08e3ed6",
            "placeholder": "​",
            "style": "IPY_MODEL_b4eb0b70db6843f396daf7421873840c",
            "value": " 1.11k/1.11k [00:00&lt;00:00, 15.2kB/s]"
          }
        },
        "044db8e0f9474fa797606407f74fca82": {
          "model_module": "@jupyter-widgets/controls",
          "model_module_version": "1.5.0",
          "model_name": "DescriptionStyleModel",
          "state": {
            "_model_module": "@jupyter-widgets/controls",
            "_model_module_version": "1.5.0",
            "_model_name": "DescriptionStyleModel",
            "_view_count": null,
            "_view_module": "@jupyter-widgets/base",
            "_view_module_version": "1.2.0",
            "_view_name": "StyleView",
            "description_width": ""
          }
        },
        "06bad1ba9ae24bd5bad4eda5adb5f0bc": {
          "model_module": "@jupyter-widgets/base",
          "model_module_version": "1.2.0",
          "model_name": "LayoutModel",
          "state": {
            "_model_module": "@jupyter-widgets/base",
            "_model_module_version": "1.2.0",
            "_model_name": "LayoutModel",
            "_view_count": null,
            "_view_module": "@jupyter-widgets/base",
            "_view_module_version": "1.2.0",
            "_view_name": "LayoutView",
            "align_content": null,
            "align_items": null,
            "align_self": null,
            "border": null,
            "bottom": null,
            "display": null,
            "flex": null,
            "flex_flow": null,
            "grid_area": null,
            "grid_auto_columns": null,
            "grid_auto_flow": null,
            "grid_auto_rows": null,
            "grid_column": null,
            "grid_gap": null,
            "grid_row": null,
            "grid_template_areas": null,
            "grid_template_columns": null,
            "grid_template_rows": null,
            "height": null,
            "justify_content": null,
            "justify_items": null,
            "left": null,
            "margin": null,
            "max_height": null,
            "max_width": null,
            "min_height": null,
            "min_width": null,
            "object_fit": null,
            "object_position": null,
            "order": null,
            "overflow": null,
            "overflow_x": null,
            "overflow_y": null,
            "padding": null,
            "right": null,
            "top": null,
            "visibility": null,
            "width": null
          }
        },
        "0cbdea1564e24e8fa40ce5ba16e4c681": {
          "model_module": "@jupyter-widgets/base",
          "model_module_version": "1.2.0",
          "model_name": "LayoutModel",
          "state": {
            "_model_module": "@jupyter-widgets/base",
            "_model_module_version": "1.2.0",
            "_model_name": "LayoutModel",
            "_view_count": null,
            "_view_module": "@jupyter-widgets/base",
            "_view_module_version": "1.2.0",
            "_view_name": "LayoutView",
            "align_content": null,
            "align_items": null,
            "align_self": null,
            "border": null,
            "bottom": null,
            "display": null,
            "flex": null,
            "flex_flow": null,
            "grid_area": null,
            "grid_auto_columns": null,
            "grid_auto_flow": null,
            "grid_auto_rows": null,
            "grid_column": null,
            "grid_gap": null,
            "grid_row": null,
            "grid_template_areas": null,
            "grid_template_columns": null,
            "grid_template_rows": null,
            "height": null,
            "justify_content": null,
            "justify_items": null,
            "left": null,
            "margin": null,
            "max_height": null,
            "max_width": null,
            "min_height": null,
            "min_width": null,
            "object_fit": null,
            "object_position": null,
            "order": null,
            "overflow": null,
            "overflow_x": null,
            "overflow_y": null,
            "padding": null,
            "right": null,
            "top": null,
            "visibility": null,
            "width": null
          }
        },
        "0f33e6fa483d4d20a3165e7fbbda389c": {
          "model_module": "@jupyter-widgets/controls",
          "model_module_version": "1.5.0",
          "model_name": "ProgressStyleModel",
          "state": {
            "_model_module": "@jupyter-widgets/controls",
            "_model_module_version": "1.5.0",
            "_model_name": "ProgressStyleModel",
            "_view_count": null,
            "_view_module": "@jupyter-widgets/base",
            "_view_module_version": "1.2.0",
            "_view_name": "StyleView",
            "bar_color": null,
            "description_width": ""
          }
        },
        "10867fb84bcf4829987c220ef16b0790": {
          "model_module": "@jupyter-widgets/base",
          "model_module_version": "1.2.0",
          "model_name": "LayoutModel",
          "state": {
            "_model_module": "@jupyter-widgets/base",
            "_model_module_version": "1.2.0",
            "_model_name": "LayoutModel",
            "_view_count": null,
            "_view_module": "@jupyter-widgets/base",
            "_view_module_version": "1.2.0",
            "_view_name": "LayoutView",
            "align_content": null,
            "align_items": null,
            "align_self": null,
            "border": null,
            "bottom": null,
            "display": null,
            "flex": null,
            "flex_flow": null,
            "grid_area": null,
            "grid_auto_columns": null,
            "grid_auto_flow": null,
            "grid_auto_rows": null,
            "grid_column": null,
            "grid_gap": null,
            "grid_row": null,
            "grid_template_areas": null,
            "grid_template_columns": null,
            "grid_template_rows": null,
            "height": null,
            "justify_content": null,
            "justify_items": null,
            "left": null,
            "margin": null,
            "max_height": null,
            "max_width": null,
            "min_height": null,
            "min_width": null,
            "object_fit": null,
            "object_position": null,
            "order": null,
            "overflow": null,
            "overflow_x": null,
            "overflow_y": null,
            "padding": null,
            "right": null,
            "top": null,
            "visibility": null,
            "width": null
          }
        },
        "11ff95bb2d8d41f385b3c5d70e460ef1": {
          "model_module": "@jupyter-widgets/controls",
          "model_module_version": "1.5.0",
          "model_name": "FloatProgressModel",
          "state": {
            "_dom_classes": [],
            "_model_module": "@jupyter-widgets/controls",
            "_model_module_version": "1.5.0",
            "_model_name": "FloatProgressModel",
            "_view_count": null,
            "_view_module": "@jupyter-widgets/controls",
            "_view_module_version": "1.5.0",
            "_view_name": "ProgressView",
            "bar_style": "success",
            "description": "",
            "description_tooltip": null,
            "layout": "IPY_MODEL_a07c904a4a9d4265bc5ad1c96353242a",
            "max": 2423393,
            "min": 0,
            "orientation": "horizontal",
            "style": "IPY_MODEL_2341175dbc6642e396d2e82622e0ec51",
            "value": 2423393
          }
        },
        "130bcdf40bf249b6b9b80ea885f4e004": {
          "model_module": "@jupyter-widgets/base",
          "model_module_version": "1.2.0",
          "model_name": "LayoutModel",
          "state": {
            "_model_module": "@jupyter-widgets/base",
            "_model_module_version": "1.2.0",
            "_model_name": "LayoutModel",
            "_view_count": null,
            "_view_module": "@jupyter-widgets/base",
            "_view_module_version": "1.2.0",
            "_view_name": "LayoutView",
            "align_content": null,
            "align_items": null,
            "align_self": null,
            "border": null,
            "bottom": null,
            "display": null,
            "flex": null,
            "flex_flow": null,
            "grid_area": null,
            "grid_auto_columns": null,
            "grid_auto_flow": null,
            "grid_auto_rows": null,
            "grid_column": null,
            "grid_gap": null,
            "grid_row": null,
            "grid_template_areas": null,
            "grid_template_columns": null,
            "grid_template_rows": null,
            "height": null,
            "justify_content": null,
            "justify_items": null,
            "left": null,
            "margin": null,
            "max_height": null,
            "max_width": null,
            "min_height": null,
            "min_width": null,
            "object_fit": null,
            "object_position": null,
            "order": null,
            "overflow": null,
            "overflow_x": null,
            "overflow_y": null,
            "padding": null,
            "right": null,
            "top": null,
            "visibility": null,
            "width": null
          }
        },
        "13d1ccd4eae24ad594fca0e447c6fbc9": {
          "model_module": "@jupyter-widgets/controls",
          "model_module_version": "1.5.0",
          "model_name": "DescriptionStyleModel",
          "state": {
            "_model_module": "@jupyter-widgets/controls",
            "_model_module_version": "1.5.0",
            "_model_name": "DescriptionStyleModel",
            "_view_count": null,
            "_view_module": "@jupyter-widgets/base",
            "_view_module_version": "1.2.0",
            "_view_name": "StyleView",
            "description_width": ""
          }
        },
        "1b48216c17fc43728108567439b124dc": {
          "model_module": "@jupyter-widgets/controls",
          "model_module_version": "1.5.0",
          "model_name": "HBoxModel",
          "state": {
            "_dom_classes": [],
            "_model_module": "@jupyter-widgets/controls",
            "_model_module_version": "1.5.0",
            "_model_name": "HBoxModel",
            "_view_count": null,
            "_view_module": "@jupyter-widgets/controls",
            "_view_module_version": "1.5.0",
            "_view_name": "HBoxView",
            "box_style": "",
            "children": [
              "IPY_MODEL_300a4f87e9904ae18458594f785dcefd",
              "IPY_MODEL_def8e1a6fba64adcb2b6806d7a967a6b",
              "IPY_MODEL_1e67083f495d4e93b6758650c9b79636"
            ],
            "layout": "IPY_MODEL_3cd761ce595441ed8cb5a3b3ad624b89"
          }
        },
        "1e67083f495d4e93b6758650c9b79636": {
          "model_module": "@jupyter-widgets/controls",
          "model_module_version": "1.5.0",
          "model_name": "HTMLModel",
          "state": {
            "_dom_classes": [],
            "_model_module": "@jupyter-widgets/controls",
            "_model_module_version": "1.5.0",
            "_model_name": "HTMLModel",
            "_view_count": null,
            "_view_module": "@jupyter-widgets/controls",
            "_view_module_version": "1.5.0",
            "_view_name": "HTMLView",
            "description": "",
            "description_tooltip": null,
            "layout": "IPY_MODEL_242df91aa89c4c388ac22d87040f06d6",
            "placeholder": "​",
            "style": "IPY_MODEL_f42d5711d14b4ce6a3de4cfb7b90146b",
            "value": " 3.54M/3.54M [00:00&lt;00:00, 11.7MB/s]"
          }
        },
        "2341175dbc6642e396d2e82622e0ec51": {
          "model_module": "@jupyter-widgets/controls",
          "model_module_version": "1.5.0",
          "model_name": "ProgressStyleModel",
          "state": {
            "_model_module": "@jupyter-widgets/controls",
            "_model_module_version": "1.5.0",
            "_model_name": "ProgressStyleModel",
            "_view_count": null,
            "_view_module": "@jupyter-widgets/base",
            "_view_module_version": "1.2.0",
            "_view_name": "StyleView",
            "bar_color": null,
            "description_width": ""
          }
        },
        "242df91aa89c4c388ac22d87040f06d6": {
          "model_module": "@jupyter-widgets/base",
          "model_module_version": "1.2.0",
          "model_name": "LayoutModel",
          "state": {
            "_model_module": "@jupyter-widgets/base",
            "_model_module_version": "1.2.0",
            "_model_name": "LayoutModel",
            "_view_count": null,
            "_view_module": "@jupyter-widgets/base",
            "_view_module_version": "1.2.0",
            "_view_name": "LayoutView",
            "align_content": null,
            "align_items": null,
            "align_self": null,
            "border": null,
            "bottom": null,
            "display": null,
            "flex": null,
            "flex_flow": null,
            "grid_area": null,
            "grid_auto_columns": null,
            "grid_auto_flow": null,
            "grid_auto_rows": null,
            "grid_column": null,
            "grid_gap": null,
            "grid_row": null,
            "grid_template_areas": null,
            "grid_template_columns": null,
            "grid_template_rows": null,
            "height": null,
            "justify_content": null,
            "justify_items": null,
            "left": null,
            "margin": null,
            "max_height": null,
            "max_width": null,
            "min_height": null,
            "min_width": null,
            "object_fit": null,
            "object_position": null,
            "order": null,
            "overflow": null,
            "overflow_x": null,
            "overflow_y": null,
            "padding": null,
            "right": null,
            "top": null,
            "visibility": null,
            "width": null
          }
        },
        "2c1366f6242f4b8fb69292cff33b5d9d": {
          "model_module": "@jupyter-widgets/controls",
          "model_module_version": "1.5.0",
          "model_name": "ProgressStyleModel",
          "state": {
            "_model_module": "@jupyter-widgets/controls",
            "_model_module_version": "1.5.0",
            "_model_name": "ProgressStyleModel",
            "_view_count": null,
            "_view_module": "@jupyter-widgets/base",
            "_view_module_version": "1.2.0",
            "_view_name": "StyleView",
            "bar_color": null,
            "description_width": ""
          }
        },
        "300a4f87e9904ae18458594f785dcefd": {
          "model_module": "@jupyter-widgets/controls",
          "model_module_version": "1.5.0",
          "model_name": "HTMLModel",
          "state": {
            "_dom_classes": [],
            "_model_module": "@jupyter-widgets/controls",
            "_model_module_version": "1.5.0",
            "_model_name": "HTMLModel",
            "_view_count": null,
            "_view_module": "@jupyter-widgets/controls",
            "_view_module_version": "1.5.0",
            "_view_name": "HTMLView",
            "description": "",
            "description_tooltip": null,
            "layout": "IPY_MODEL_ab6f5927eddc49ebb4cc9ace568432e5",
            "placeholder": "​",
            "style": "IPY_MODEL_ffc529adc81449a3af4b1e0ff964688d",
            "value": "Downloading: 100%"
          }
        },
        "30749979771d48908aaf1f0741d021f8": {
          "model_module": "@jupyter-widgets/controls",
          "model_module_version": "1.5.0",
          "model_name": "HTMLModel",
          "state": {
            "_dom_classes": [],
            "_model_module": "@jupyter-widgets/controls",
            "_model_module_version": "1.5.0",
            "_model_name": "HTMLModel",
            "_view_count": null,
            "_view_module": "@jupyter-widgets/controls",
            "_view_module_version": "1.5.0",
            "_view_name": "HTMLView",
            "description": "",
            "description_tooltip": null,
            "layout": "IPY_MODEL_36c284b748af4107bfeef93f696643c3",
            "placeholder": "​",
            "style": "IPY_MODEL_e6d06ea30186482a94d8ec8ef79c6e6e",
            "value": " 2.31M/2.31M [00:00&lt;00:00, 12.6MB/s]"
          }
        },
        "36c284b748af4107bfeef93f696643c3": {
          "model_module": "@jupyter-widgets/base",
          "model_module_version": "1.2.0",
          "model_name": "LayoutModel",
          "state": {
            "_model_module": "@jupyter-widgets/base",
            "_model_module_version": "1.2.0",
            "_model_name": "LayoutModel",
            "_view_count": null,
            "_view_module": "@jupyter-widgets/base",
            "_view_module_version": "1.2.0",
            "_view_name": "LayoutView",
            "align_content": null,
            "align_items": null,
            "align_self": null,
            "border": null,
            "bottom": null,
            "display": null,
            "flex": null,
            "flex_flow": null,
            "grid_area": null,
            "grid_auto_columns": null,
            "grid_auto_flow": null,
            "grid_auto_rows": null,
            "grid_column": null,
            "grid_gap": null,
            "grid_row": null,
            "grid_template_areas": null,
            "grid_template_columns": null,
            "grid_template_rows": null,
            "height": null,
            "justify_content": null,
            "justify_items": null,
            "left": null,
            "margin": null,
            "max_height": null,
            "max_width": null,
            "min_height": null,
            "min_width": null,
            "object_fit": null,
            "object_position": null,
            "order": null,
            "overflow": null,
            "overflow_x": null,
            "overflow_y": null,
            "padding": null,
            "right": null,
            "top": null,
            "visibility": null,
            "width": null
          }
        },
        "38780981a60d4e87a87eccceb765cc24": {
          "model_module": "@jupyter-widgets/controls",
          "model_module_version": "1.5.0",
          "model_name": "HTMLModel",
          "state": {
            "_dom_classes": [],
            "_model_module": "@jupyter-widgets/controls",
            "_model_module_version": "1.5.0",
            "_model_name": "HTMLModel",
            "_view_count": null,
            "_view_module": "@jupyter-widgets/controls",
            "_view_module_version": "1.5.0",
            "_view_name": "HTMLView",
            "description": "",
            "description_tooltip": null,
            "layout": "IPY_MODEL_06bad1ba9ae24bd5bad4eda5adb5f0bc",
            "placeholder": "​",
            "style": "IPY_MODEL_13d1ccd4eae24ad594fca0e447c6fbc9",
            "value": " 1.80G/1.80G [01:14&lt;00:00, 29.7MB/s]"
          }
        },
        "399436f75d134e078371d666c3c4fa63": {
          "model_module": "@jupyter-widgets/controls",
          "model_module_version": "1.5.0",
          "model_name": "ProgressStyleModel",
          "state": {
            "_model_module": "@jupyter-widgets/controls",
            "_model_module_version": "1.5.0",
            "_model_name": "ProgressStyleModel",
            "_view_count": null,
            "_view_module": "@jupyter-widgets/base",
            "_view_module_version": "1.2.0",
            "_view_name": "StyleView",
            "bar_color": null,
            "description_width": ""
          }
        },
        "3cd761ce595441ed8cb5a3b3ad624b89": {
          "model_module": "@jupyter-widgets/base",
          "model_module_version": "1.2.0",
          "model_name": "LayoutModel",
          "state": {
            "_model_module": "@jupyter-widgets/base",
            "_model_module_version": "1.2.0",
            "_model_name": "LayoutModel",
            "_view_count": null,
            "_view_module": "@jupyter-widgets/base",
            "_view_module_version": "1.2.0",
            "_view_name": "LayoutView",
            "align_content": null,
            "align_items": null,
            "align_self": null,
            "border": null,
            "bottom": null,
            "display": null,
            "flex": null,
            "flex_flow": null,
            "grid_area": null,
            "grid_auto_columns": null,
            "grid_auto_flow": null,
            "grid_auto_rows": null,
            "grid_column": null,
            "grid_gap": null,
            "grid_row": null,
            "grid_template_areas": null,
            "grid_template_columns": null,
            "grid_template_rows": null,
            "height": null,
            "justify_content": null,
            "justify_items": null,
            "left": null,
            "margin": null,
            "max_height": null,
            "max_width": null,
            "min_height": null,
            "min_width": null,
            "object_fit": null,
            "object_position": null,
            "order": null,
            "overflow": null,
            "overflow_x": null,
            "overflow_y": null,
            "padding": null,
            "right": null,
            "top": null,
            "visibility": null,
            "width": null
          }
        },
        "5ce2d11cce5e48ed81faa6d868401b59": {
          "model_module": "@jupyter-widgets/controls",
          "model_module_version": "1.5.0",
          "model_name": "DescriptionStyleModel",
          "state": {
            "_model_module": "@jupyter-widgets/controls",
            "_model_module_version": "1.5.0",
            "_model_name": "DescriptionStyleModel",
            "_view_count": null,
            "_view_module": "@jupyter-widgets/base",
            "_view_module_version": "1.2.0",
            "_view_name": "StyleView",
            "description_width": ""
          }
        },
        "5d0fb74494364cc99a44e15a6e3bbb2a": {
          "model_module": "@jupyter-widgets/controls",
          "model_module_version": "1.5.0",
          "model_name": "FloatProgressModel",
          "state": {
            "_dom_classes": [],
            "_model_module": "@jupyter-widgets/controls",
            "_model_module_version": "1.5.0",
            "_model_name": "FloatProgressModel",
            "_view_count": null,
            "_view_module": "@jupyter-widgets/controls",
            "_view_module_version": "1.5.0",
            "_view_name": "ProgressView",
            "bar_style": "success",
            "description": "",
            "description_tooltip": null,
            "layout": "IPY_MODEL_7c7d991970b240d3a8a5696e533bcaab",
            "max": 1935796948,
            "min": 0,
            "orientation": "horizontal",
            "style": "IPY_MODEL_7160c85bd5eb49e59e910c5e5276f57f",
            "value": 1935796948
          }
        },
        "5d5f629b25b0417d982f400538c17912": {
          "model_module": "@jupyter-widgets/controls",
          "model_module_version": "1.5.0",
          "model_name": "HTMLModel",
          "state": {
            "_dom_classes": [],
            "_model_module": "@jupyter-widgets/controls",
            "_model_module_version": "1.5.0",
            "_model_name": "HTMLModel",
            "_view_count": null,
            "_view_module": "@jupyter-widgets/controls",
            "_view_module_version": "1.5.0",
            "_view_name": "HTMLView",
            "description": "",
            "description_tooltip": null,
            "layout": "IPY_MODEL_130bcdf40bf249b6b9b80ea885f4e004",
            "placeholder": "​",
            "style": "IPY_MODEL_7363cc50f8e248b4a8d19a5fba45d787",
            "value": "Downloading: 100%"
          }
        },
        "5f983367fffb4e2080fa7569e0804a6c": {
          "model_module": "@jupyter-widgets/controls",
          "model_module_version": "1.5.0",
          "model_name": "DescriptionStyleModel",
          "state": {
            "_model_module": "@jupyter-widgets/controls",
            "_model_module_version": "1.5.0",
            "_model_name": "DescriptionStyleModel",
            "_view_count": null,
            "_view_module": "@jupyter-widgets/base",
            "_view_module_version": "1.2.0",
            "_view_name": "StyleView",
            "description_width": ""
          }
        },
        "60b460c15c964d23ba5b6161a25e755e": {
          "model_module": "@jupyter-widgets/controls",
          "model_module_version": "1.5.0",
          "model_name": "FloatProgressModel",
          "state": {
            "_dom_classes": [],
            "_model_module": "@jupyter-widgets/controls",
            "_model_module_version": "1.5.0",
            "_model_name": "FloatProgressModel",
            "_view_count": null,
            "_view_module": "@jupyter-widgets/controls",
            "_view_module_version": "1.5.0",
            "_view_name": "ProgressView",
            "bar_style": "success",
            "description": "",
            "description_tooltip": null,
            "layout": "IPY_MODEL_d40f2411aa584425a3a9399715591262",
            "max": 908,
            "min": 0,
            "orientation": "horizontal",
            "style": "IPY_MODEL_399436f75d134e078371d666c3c4fa63",
            "value": 908
          }
        },
        "64ed2290b2244c279ee94f8b307267a7": {
          "model_module": "@jupyter-widgets/base",
          "model_module_version": "1.2.0",
          "model_name": "LayoutModel",
          "state": {
            "_model_module": "@jupyter-widgets/base",
            "_model_module_version": "1.2.0",
            "_model_name": "LayoutModel",
            "_view_count": null,
            "_view_module": "@jupyter-widgets/base",
            "_view_module_version": "1.2.0",
            "_view_name": "LayoutView",
            "align_content": null,
            "align_items": null,
            "align_self": null,
            "border": null,
            "bottom": null,
            "display": null,
            "flex": null,
            "flex_flow": null,
            "grid_area": null,
            "grid_auto_columns": null,
            "grid_auto_flow": null,
            "grid_auto_rows": null,
            "grid_column": null,
            "grid_gap": null,
            "grid_row": null,
            "grid_template_areas": null,
            "grid_template_columns": null,
            "grid_template_rows": null,
            "height": null,
            "justify_content": null,
            "justify_items": null,
            "left": null,
            "margin": null,
            "max_height": null,
            "max_width": null,
            "min_height": null,
            "min_width": null,
            "object_fit": null,
            "object_position": null,
            "order": null,
            "overflow": null,
            "overflow_x": null,
            "overflow_y": null,
            "padding": null,
            "right": null,
            "top": null,
            "visibility": null,
            "width": null
          }
        },
        "7160c85bd5eb49e59e910c5e5276f57f": {
          "model_module": "@jupyter-widgets/controls",
          "model_module_version": "1.5.0",
          "model_name": "ProgressStyleModel",
          "state": {
            "_model_module": "@jupyter-widgets/controls",
            "_model_module_version": "1.5.0",
            "_model_name": "ProgressStyleModel",
            "_view_count": null,
            "_view_module": "@jupyter-widgets/base",
            "_view_module_version": "1.2.0",
            "_view_name": "StyleView",
            "bar_color": null,
            "description_width": ""
          }
        },
        "7363cc50f8e248b4a8d19a5fba45d787": {
          "model_module": "@jupyter-widgets/controls",
          "model_module_version": "1.5.0",
          "model_name": "DescriptionStyleModel",
          "state": {
            "_model_module": "@jupyter-widgets/controls",
            "_model_module_version": "1.5.0",
            "_model_name": "DescriptionStyleModel",
            "_view_count": null,
            "_view_module": "@jupyter-widgets/base",
            "_view_module_version": "1.2.0",
            "_view_name": "StyleView",
            "description_width": ""
          }
        },
        "7546ebf32fd74fa6854aa2921f716f5c": {
          "model_module": "@jupyter-widgets/controls",
          "model_module_version": "1.5.0",
          "model_name": "HTMLModel",
          "state": {
            "_dom_classes": [],
            "_model_module": "@jupyter-widgets/controls",
            "_model_module_version": "1.5.0",
            "_model_name": "HTMLModel",
            "_view_count": null,
            "_view_module": "@jupyter-widgets/controls",
            "_view_module_version": "1.5.0",
            "_view_name": "HTMLView",
            "description": "",
            "description_tooltip": null,
            "layout": "IPY_MODEL_816e4c66eb5547c7a44530a6e9c2cd11",
            "placeholder": "​",
            "style": "IPY_MODEL_5ce2d11cce5e48ed81faa6d868401b59",
            "value": " 272/272 [00:00&lt;00:00, 4.19kB/s]"
          }
        },
        "76cebcb1be7e49dc9b0f94bd72f19490": {
          "model_module": "@jupyter-widgets/controls",
          "model_module_version": "1.5.0",
          "model_name": "HBoxModel",
          "state": {
            "_dom_classes": [],
            "_model_module": "@jupyter-widgets/controls",
            "_model_module_version": "1.5.0",
            "_model_name": "HBoxModel",
            "_view_count": null,
            "_view_module": "@jupyter-widgets/controls",
            "_view_module_version": "1.5.0",
            "_view_name": "HBoxView",
            "box_style": "",
            "children": [
              "IPY_MODEL_b067afa02b9c438298137ba64f258992",
              "IPY_MODEL_f765826a867941349ea80b3e29058135",
              "IPY_MODEL_7546ebf32fd74fa6854aa2921f716f5c"
            ],
            "layout": "IPY_MODEL_e010fe56ccb343dd96228fe8ac30f589"
          }
        },
        "7c7d991970b240d3a8a5696e533bcaab": {
          "model_module": "@jupyter-widgets/base",
          "model_module_version": "1.2.0",
          "model_name": "LayoutModel",
          "state": {
            "_model_module": "@jupyter-widgets/base",
            "_model_module_version": "1.2.0",
            "_model_name": "LayoutModel",
            "_view_count": null,
            "_view_module": "@jupyter-widgets/base",
            "_view_module_version": "1.2.0",
            "_view_name": "LayoutView",
            "align_content": null,
            "align_items": null,
            "align_self": null,
            "border": null,
            "bottom": null,
            "display": null,
            "flex": null,
            "flex_flow": null,
            "grid_area": null,
            "grid_auto_columns": null,
            "grid_auto_flow": null,
            "grid_auto_rows": null,
            "grid_column": null,
            "grid_gap": null,
            "grid_row": null,
            "grid_template_areas": null,
            "grid_template_columns": null,
            "grid_template_rows": null,
            "height": null,
            "justify_content": null,
            "justify_items": null,
            "left": null,
            "margin": null,
            "max_height": null,
            "max_width": null,
            "min_height": null,
            "min_width": null,
            "object_fit": null,
            "object_position": null,
            "order": null,
            "overflow": null,
            "overflow_x": null,
            "overflow_y": null,
            "padding": null,
            "right": null,
            "top": null,
            "visibility": null,
            "width": null
          }
        },
        "7cfcb04233a242cc832eff8fbf305219": {
          "model_module": "@jupyter-widgets/base",
          "model_module_version": "1.2.0",
          "model_name": "LayoutModel",
          "state": {
            "_model_module": "@jupyter-widgets/base",
            "_model_module_version": "1.2.0",
            "_model_name": "LayoutModel",
            "_view_count": null,
            "_view_module": "@jupyter-widgets/base",
            "_view_module_version": "1.2.0",
            "_view_name": "LayoutView",
            "align_content": null,
            "align_items": null,
            "align_self": null,
            "border": null,
            "bottom": null,
            "display": null,
            "flex": null,
            "flex_flow": null,
            "grid_area": null,
            "grid_auto_columns": null,
            "grid_auto_flow": null,
            "grid_auto_rows": null,
            "grid_column": null,
            "grid_gap": null,
            "grid_row": null,
            "grid_template_areas": null,
            "grid_template_columns": null,
            "grid_template_rows": null,
            "height": null,
            "justify_content": null,
            "justify_items": null,
            "left": null,
            "margin": null,
            "max_height": null,
            "max_width": null,
            "min_height": null,
            "min_width": null,
            "object_fit": null,
            "object_position": null,
            "order": null,
            "overflow": null,
            "overflow_x": null,
            "overflow_y": null,
            "padding": null,
            "right": null,
            "top": null,
            "visibility": null,
            "width": null
          }
        },
        "7f50c4950a7349e0ac97dd2343c507ab": {
          "model_module": "@jupyter-widgets/base",
          "model_module_version": "1.2.0",
          "model_name": "LayoutModel",
          "state": {
            "_model_module": "@jupyter-widgets/base",
            "_model_module_version": "1.2.0",
            "_model_name": "LayoutModel",
            "_view_count": null,
            "_view_module": "@jupyter-widgets/base",
            "_view_module_version": "1.2.0",
            "_view_name": "LayoutView",
            "align_content": null,
            "align_items": null,
            "align_self": null,
            "border": null,
            "bottom": null,
            "display": null,
            "flex": null,
            "flex_flow": null,
            "grid_area": null,
            "grid_auto_columns": null,
            "grid_auto_flow": null,
            "grid_auto_rows": null,
            "grid_column": null,
            "grid_gap": null,
            "grid_row": null,
            "grid_template_areas": null,
            "grid_template_columns": null,
            "grid_template_rows": null,
            "height": null,
            "justify_content": null,
            "justify_items": null,
            "left": null,
            "margin": null,
            "max_height": null,
            "max_width": null,
            "min_height": null,
            "min_width": null,
            "object_fit": null,
            "object_position": null,
            "order": null,
            "overflow": null,
            "overflow_x": null,
            "overflow_y": null,
            "padding": null,
            "right": null,
            "top": null,
            "visibility": null,
            "width": null
          }
        },
        "7f67bab58a1e476eabe9e3d506369982": {
          "model_module": "@jupyter-widgets/base",
          "model_module_version": "1.2.0",
          "model_name": "LayoutModel",
          "state": {
            "_model_module": "@jupyter-widgets/base",
            "_model_module_version": "1.2.0",
            "_model_name": "LayoutModel",
            "_view_count": null,
            "_view_module": "@jupyter-widgets/base",
            "_view_module_version": "1.2.0",
            "_view_name": "LayoutView",
            "align_content": null,
            "align_items": null,
            "align_self": null,
            "border": null,
            "bottom": null,
            "display": null,
            "flex": null,
            "flex_flow": null,
            "grid_area": null,
            "grid_auto_columns": null,
            "grid_auto_flow": null,
            "grid_auto_rows": null,
            "grid_column": null,
            "grid_gap": null,
            "grid_row": null,
            "grid_template_areas": null,
            "grid_template_columns": null,
            "grid_template_rows": null,
            "height": null,
            "justify_content": null,
            "justify_items": null,
            "left": null,
            "margin": null,
            "max_height": null,
            "max_width": null,
            "min_height": null,
            "min_width": null,
            "object_fit": null,
            "object_position": null,
            "order": null,
            "overflow": null,
            "overflow_x": null,
            "overflow_y": null,
            "padding": null,
            "right": null,
            "top": null,
            "visibility": null,
            "width": null
          }
        },
        "816e4c66eb5547c7a44530a6e9c2cd11": {
          "model_module": "@jupyter-widgets/base",
          "model_module_version": "1.2.0",
          "model_name": "LayoutModel",
          "state": {
            "_model_module": "@jupyter-widgets/base",
            "_model_module_version": "1.2.0",
            "_model_name": "LayoutModel",
            "_view_count": null,
            "_view_module": "@jupyter-widgets/base",
            "_view_module_version": "1.2.0",
            "_view_name": "LayoutView",
            "align_content": null,
            "align_items": null,
            "align_self": null,
            "border": null,
            "bottom": null,
            "display": null,
            "flex": null,
            "flex_flow": null,
            "grid_area": null,
            "grid_auto_columns": null,
            "grid_auto_flow": null,
            "grid_auto_rows": null,
            "grid_column": null,
            "grid_gap": null,
            "grid_row": null,
            "grid_template_areas": null,
            "grid_template_columns": null,
            "grid_template_rows": null,
            "height": null,
            "justify_content": null,
            "justify_items": null,
            "left": null,
            "margin": null,
            "max_height": null,
            "max_width": null,
            "min_height": null,
            "min_width": null,
            "object_fit": null,
            "object_position": null,
            "order": null,
            "overflow": null,
            "overflow_x": null,
            "overflow_y": null,
            "padding": null,
            "right": null,
            "top": null,
            "visibility": null,
            "width": null
          }
        },
        "83285165a0814b79a4b3e92de882bfd1": {
          "model_module": "@jupyter-widgets/base",
          "model_module_version": "1.2.0",
          "model_name": "LayoutModel",
          "state": {
            "_model_module": "@jupyter-widgets/base",
            "_model_module_version": "1.2.0",
            "_model_name": "LayoutModel",
            "_view_count": null,
            "_view_module": "@jupyter-widgets/base",
            "_view_module_version": "1.2.0",
            "_view_name": "LayoutView",
            "align_content": null,
            "align_items": null,
            "align_self": null,
            "border": null,
            "bottom": null,
            "display": null,
            "flex": null,
            "flex_flow": null,
            "grid_area": null,
            "grid_auto_columns": null,
            "grid_auto_flow": null,
            "grid_auto_rows": null,
            "grid_column": null,
            "grid_gap": null,
            "grid_row": null,
            "grid_template_areas": null,
            "grid_template_columns": null,
            "grid_template_rows": null,
            "height": null,
            "justify_content": null,
            "justify_items": null,
            "left": null,
            "margin": null,
            "max_height": null,
            "max_width": null,
            "min_height": null,
            "min_width": null,
            "object_fit": null,
            "object_position": null,
            "order": null,
            "overflow": null,
            "overflow_x": null,
            "overflow_y": null,
            "padding": null,
            "right": null,
            "top": null,
            "visibility": null,
            "width": null
          }
        },
        "855de49d542841a79b3c37fab177abcd": {
          "model_module": "@jupyter-widgets/controls",
          "model_module_version": "1.5.0",
          "model_name": "HBoxModel",
          "state": {
            "_dom_classes": [],
            "_model_module": "@jupyter-widgets/controls",
            "_model_module_version": "1.5.0",
            "_model_name": "HBoxModel",
            "_view_count": null,
            "_view_module": "@jupyter-widgets/controls",
            "_view_module_version": "1.5.0",
            "_view_name": "HBoxView",
            "box_style": "",
            "children": [
              "IPY_MODEL_b8f0165de7b04ecbb381628c0ba61b78",
              "IPY_MODEL_5d0fb74494364cc99a44e15a6e3bbb2a",
              "IPY_MODEL_38780981a60d4e87a87eccceb765cc24"
            ],
            "layout": "IPY_MODEL_64ed2290b2244c279ee94f8b307267a7"
          }
        },
        "86557a28b3dc4d4795628ce0585bcc0f": {
          "model_module": "@jupyter-widgets/base",
          "model_module_version": "1.2.0",
          "model_name": "LayoutModel",
          "state": {
            "_model_module": "@jupyter-widgets/base",
            "_model_module_version": "1.2.0",
            "_model_name": "LayoutModel",
            "_view_count": null,
            "_view_module": "@jupyter-widgets/base",
            "_view_module_version": "1.2.0",
            "_view_name": "LayoutView",
            "align_content": null,
            "align_items": null,
            "align_self": null,
            "border": null,
            "bottom": null,
            "display": null,
            "flex": null,
            "flex_flow": null,
            "grid_area": null,
            "grid_auto_columns": null,
            "grid_auto_flow": null,
            "grid_auto_rows": null,
            "grid_column": null,
            "grid_gap": null,
            "grid_row": null,
            "grid_template_areas": null,
            "grid_template_columns": null,
            "grid_template_rows": null,
            "height": null,
            "justify_content": null,
            "justify_items": null,
            "left": null,
            "margin": null,
            "max_height": null,
            "max_width": null,
            "min_height": null,
            "min_width": null,
            "object_fit": null,
            "object_position": null,
            "order": null,
            "overflow": null,
            "overflow_x": null,
            "overflow_y": null,
            "padding": null,
            "right": null,
            "top": null,
            "visibility": null,
            "width": null
          }
        },
        "87f1576e92e24ad28d5cfb286fe8c026": {
          "model_module": "@jupyter-widgets/base",
          "model_module_version": "1.2.0",
          "model_name": "LayoutModel",
          "state": {
            "_model_module": "@jupyter-widgets/base",
            "_model_module_version": "1.2.0",
            "_model_name": "LayoutModel",
            "_view_count": null,
            "_view_module": "@jupyter-widgets/base",
            "_view_module_version": "1.2.0",
            "_view_name": "LayoutView",
            "align_content": null,
            "align_items": null,
            "align_self": null,
            "border": null,
            "bottom": null,
            "display": null,
            "flex": null,
            "flex_flow": null,
            "grid_area": null,
            "grid_auto_columns": null,
            "grid_auto_flow": null,
            "grid_auto_rows": null,
            "grid_column": null,
            "grid_gap": null,
            "grid_row": null,
            "grid_template_areas": null,
            "grid_template_columns": null,
            "grid_template_rows": null,
            "height": null,
            "justify_content": null,
            "justify_items": null,
            "left": null,
            "margin": null,
            "max_height": null,
            "max_width": null,
            "min_height": null,
            "min_width": null,
            "object_fit": null,
            "object_position": null,
            "order": null,
            "overflow": null,
            "overflow_x": null,
            "overflow_y": null,
            "padding": null,
            "right": null,
            "top": null,
            "visibility": null,
            "width": null
          }
        },
        "8b5a9a7dc73644179e2a4267141bf9ea": {
          "model_module": "@jupyter-widgets/controls",
          "model_module_version": "1.5.0",
          "model_name": "HTMLModel",
          "state": {
            "_dom_classes": [],
            "_model_module": "@jupyter-widgets/controls",
            "_model_module_version": "1.5.0",
            "_model_name": "HTMLModel",
            "_view_count": null,
            "_view_module": "@jupyter-widgets/controls",
            "_view_module_version": "1.5.0",
            "_view_name": "HTMLView",
            "description": "",
            "description_tooltip": null,
            "layout": "IPY_MODEL_7f67bab58a1e476eabe9e3d506369982",
            "placeholder": "​",
            "style": "IPY_MODEL_5f983367fffb4e2080fa7569e0804a6c",
            "value": " 908/908 [00:00&lt;00:00, 17.7kB/s]"
          }
        },
        "96fbc30bc2b342d8a1d5d4840a87276f": {
          "model_module": "@jupyter-widgets/controls",
          "model_module_version": "1.5.0",
          "model_name": "DescriptionStyleModel",
          "state": {
            "_model_module": "@jupyter-widgets/controls",
            "_model_module_version": "1.5.0",
            "_model_name": "DescriptionStyleModel",
            "_view_count": null,
            "_view_module": "@jupyter-widgets/base",
            "_view_module_version": "1.2.0",
            "_view_name": "StyleView",
            "description_width": ""
          }
        },
        "9c2908452706465a9f74067b15a22d6c": {
          "model_module": "@jupyter-widgets/base",
          "model_module_version": "1.2.0",
          "model_name": "LayoutModel",
          "state": {
            "_model_module": "@jupyter-widgets/base",
            "_model_module_version": "1.2.0",
            "_model_name": "LayoutModel",
            "_view_count": null,
            "_view_module": "@jupyter-widgets/base",
            "_view_module_version": "1.2.0",
            "_view_name": "LayoutView",
            "align_content": null,
            "align_items": null,
            "align_self": null,
            "border": null,
            "bottom": null,
            "display": null,
            "flex": null,
            "flex_flow": null,
            "grid_area": null,
            "grid_auto_columns": null,
            "grid_auto_flow": null,
            "grid_auto_rows": null,
            "grid_column": null,
            "grid_gap": null,
            "grid_row": null,
            "grid_template_areas": null,
            "grid_template_columns": null,
            "grid_template_rows": null,
            "height": null,
            "justify_content": null,
            "justify_items": null,
            "left": null,
            "margin": null,
            "max_height": null,
            "max_width": null,
            "min_height": null,
            "min_width": null,
            "object_fit": null,
            "object_position": null,
            "order": null,
            "overflow": null,
            "overflow_x": null,
            "overflow_y": null,
            "padding": null,
            "right": null,
            "top": null,
            "visibility": null,
            "width": null
          }
        },
        "a07c904a4a9d4265bc5ad1c96353242a": {
          "model_module": "@jupyter-widgets/base",
          "model_module_version": "1.2.0",
          "model_name": "LayoutModel",
          "state": {
            "_model_module": "@jupyter-widgets/base",
            "_model_module_version": "1.2.0",
            "_model_name": "LayoutModel",
            "_view_count": null,
            "_view_module": "@jupyter-widgets/base",
            "_view_module_version": "1.2.0",
            "_view_name": "LayoutView",
            "align_content": null,
            "align_items": null,
            "align_self": null,
            "border": null,
            "bottom": null,
            "display": null,
            "flex": null,
            "flex_flow": null,
            "grid_area": null,
            "grid_auto_columns": null,
            "grid_auto_flow": null,
            "grid_auto_rows": null,
            "grid_column": null,
            "grid_gap": null,
            "grid_row": null,
            "grid_template_areas": null,
            "grid_template_columns": null,
            "grid_template_rows": null,
            "height": null,
            "justify_content": null,
            "justify_items": null,
            "left": null,
            "margin": null,
            "max_height": null,
            "max_width": null,
            "min_height": null,
            "min_width": null,
            "object_fit": null,
            "object_position": null,
            "order": null,
            "overflow": null,
            "overflow_x": null,
            "overflow_y": null,
            "padding": null,
            "right": null,
            "top": null,
            "visibility": null,
            "width": null
          }
        },
        "a0ce462967d247f5acfaee69c08e3ed6": {
          "model_module": "@jupyter-widgets/base",
          "model_module_version": "1.2.0",
          "model_name": "LayoutModel",
          "state": {
            "_model_module": "@jupyter-widgets/base",
            "_model_module_version": "1.2.0",
            "_model_name": "LayoutModel",
            "_view_count": null,
            "_view_module": "@jupyter-widgets/base",
            "_view_module_version": "1.2.0",
            "_view_name": "LayoutView",
            "align_content": null,
            "align_items": null,
            "align_self": null,
            "border": null,
            "bottom": null,
            "display": null,
            "flex": null,
            "flex_flow": null,
            "grid_area": null,
            "grid_auto_columns": null,
            "grid_auto_flow": null,
            "grid_auto_rows": null,
            "grid_column": null,
            "grid_gap": null,
            "grid_row": null,
            "grid_template_areas": null,
            "grid_template_columns": null,
            "grid_template_rows": null,
            "height": null,
            "justify_content": null,
            "justify_items": null,
            "left": null,
            "margin": null,
            "max_height": null,
            "max_width": null,
            "min_height": null,
            "min_width": null,
            "object_fit": null,
            "object_position": null,
            "order": null,
            "overflow": null,
            "overflow_x": null,
            "overflow_y": null,
            "padding": null,
            "right": null,
            "top": null,
            "visibility": null,
            "width": null
          }
        },
        "a1d8d2b27da04958bcbb2bb1ff11d0ec": {
          "model_module": "@jupyter-widgets/controls",
          "model_module_version": "1.5.0",
          "model_name": "HTMLModel",
          "state": {
            "_dom_classes": [],
            "_model_module": "@jupyter-widgets/controls",
            "_model_module_version": "1.5.0",
            "_model_name": "HTMLModel",
            "_view_count": null,
            "_view_module": "@jupyter-widgets/controls",
            "_view_module_version": "1.5.0",
            "_view_name": "HTMLView",
            "description": "",
            "description_tooltip": null,
            "layout": "IPY_MODEL_9c2908452706465a9f74067b15a22d6c",
            "placeholder": "​",
            "style": "IPY_MODEL_f676829b903243c4a0fb24057dea441b",
            "value": "Downloading: 100%"
          }
        },
        "ab6f5927eddc49ebb4cc9ace568432e5": {
          "model_module": "@jupyter-widgets/base",
          "model_module_version": "1.2.0",
          "model_name": "LayoutModel",
          "state": {
            "_model_module": "@jupyter-widgets/base",
            "_model_module_version": "1.2.0",
            "_model_name": "LayoutModel",
            "_view_count": null,
            "_view_module": "@jupyter-widgets/base",
            "_view_module_version": "1.2.0",
            "_view_name": "LayoutView",
            "align_content": null,
            "align_items": null,
            "align_self": null,
            "border": null,
            "bottom": null,
            "display": null,
            "flex": null,
            "flex_flow": null,
            "grid_area": null,
            "grid_auto_columns": null,
            "grid_auto_flow": null,
            "grid_auto_rows": null,
            "grid_column": null,
            "grid_gap": null,
            "grid_row": null,
            "grid_template_areas": null,
            "grid_template_columns": null,
            "grid_template_rows": null,
            "height": null,
            "justify_content": null,
            "justify_items": null,
            "left": null,
            "margin": null,
            "max_height": null,
            "max_width": null,
            "min_height": null,
            "min_width": null,
            "object_fit": null,
            "object_position": null,
            "order": null,
            "overflow": null,
            "overflow_x": null,
            "overflow_y": null,
            "padding": null,
            "right": null,
            "top": null,
            "visibility": null,
            "width": null
          }
        },
        "b067afa02b9c438298137ba64f258992": {
          "model_module": "@jupyter-widgets/controls",
          "model_module_version": "1.5.0",
          "model_name": "HTMLModel",
          "state": {
            "_dom_classes": [],
            "_model_module": "@jupyter-widgets/controls",
            "_model_module_version": "1.5.0",
            "_model_name": "HTMLModel",
            "_view_count": null,
            "_view_module": "@jupyter-widgets/controls",
            "_view_module_version": "1.5.0",
            "_view_name": "HTMLView",
            "description": "",
            "description_tooltip": null,
            "layout": "IPY_MODEL_87f1576e92e24ad28d5cfb286fe8c026",
            "placeholder": "​",
            "style": "IPY_MODEL_dac24686237b435db7cbe472c9684cdb",
            "value": "Downloading: 100%"
          }
        },
        "b2002a5f9e984f1292a63a9ae27bedb9": {
          "model_module": "@jupyter-widgets/controls",
          "model_module_version": "1.5.0",
          "model_name": "HBoxModel",
          "state": {
            "_dom_classes": [],
            "_model_module": "@jupyter-widgets/controls",
            "_model_module_version": "1.5.0",
            "_model_name": "HBoxModel",
            "_view_count": null,
            "_view_module": "@jupyter-widgets/controls",
            "_view_module_version": "1.5.0",
            "_view_name": "HBoxView",
            "box_style": "",
            "children": [
              "IPY_MODEL_5d5f629b25b0417d982f400538c17912",
              "IPY_MODEL_60b460c15c964d23ba5b6161a25e755e",
              "IPY_MODEL_8b5a9a7dc73644179e2a4267141bf9ea"
            ],
            "layout": "IPY_MODEL_0cbdea1564e24e8fa40ce5ba16e4c681"
          }
        },
        "b467f5766f4346aa9dfecd634599bf88": {
          "model_module": "@jupyter-widgets/controls",
          "model_module_version": "1.5.0",
          "model_name": "HTMLModel",
          "state": {
            "_dom_classes": [],
            "_model_module": "@jupyter-widgets/controls",
            "_model_module_version": "1.5.0",
            "_model_name": "HTMLModel",
            "_view_count": null,
            "_view_module": "@jupyter-widgets/controls",
            "_view_module_version": "1.5.0",
            "_view_name": "HTMLView",
            "description": "",
            "description_tooltip": null,
            "layout": "IPY_MODEL_83285165a0814b79a4b3e92de882bfd1",
            "placeholder": "​",
            "style": "IPY_MODEL_044db8e0f9474fa797606407f74fca82",
            "value": "Downloading: 100%"
          }
        },
        "b4b9e3601a8547b4b52669ee5510910b": {
          "model_module": "@jupyter-widgets/controls",
          "model_module_version": "1.5.0",
          "model_name": "ProgressStyleModel",
          "state": {
            "_model_module": "@jupyter-widgets/controls",
            "_model_module_version": "1.5.0",
            "_model_name": "ProgressStyleModel",
            "_view_count": null,
            "_view_module": "@jupyter-widgets/base",
            "_view_module_version": "1.2.0",
            "_view_name": "StyleView",
            "bar_color": null,
            "description_width": ""
          }
        },
        "b4eb0b70db6843f396daf7421873840c": {
          "model_module": "@jupyter-widgets/controls",
          "model_module_version": "1.5.0",
          "model_name": "DescriptionStyleModel",
          "state": {
            "_model_module": "@jupyter-widgets/controls",
            "_model_module_version": "1.5.0",
            "_model_name": "DescriptionStyleModel",
            "_view_count": null,
            "_view_module": "@jupyter-widgets/base",
            "_view_module_version": "1.2.0",
            "_view_name": "StyleView",
            "description_width": ""
          }
        },
        "b8f0165de7b04ecbb381628c0ba61b78": {
          "model_module": "@jupyter-widgets/controls",
          "model_module_version": "1.5.0",
          "model_name": "HTMLModel",
          "state": {
            "_dom_classes": [],
            "_model_module": "@jupyter-widgets/controls",
            "_model_module_version": "1.5.0",
            "_model_name": "HTMLModel",
            "_view_count": null,
            "_view_module": "@jupyter-widgets/controls",
            "_view_module_version": "1.5.0",
            "_view_name": "HTMLView",
            "description": "",
            "description_tooltip": null,
            "layout": "IPY_MODEL_de4a1b89a6eb4c4a96221c1fd23853d7",
            "placeholder": "​",
            "style": "IPY_MODEL_96fbc30bc2b342d8a1d5d4840a87276f",
            "value": "Downloading: 100%"
          }
        },
        "b93a2a66a12c4dfbadfba2a14974600e": {
          "model_module": "@jupyter-widgets/controls",
          "model_module_version": "1.5.0",
          "model_name": "FloatProgressModel",
          "state": {
            "_dom_classes": [],
            "_model_module": "@jupyter-widgets/controls",
            "_model_module_version": "1.5.0",
            "_model_name": "FloatProgressModel",
            "_view_count": null,
            "_view_module": "@jupyter-widgets/controls",
            "_view_module_version": "1.5.0",
            "_view_name": "ProgressView",
            "bar_style": "success",
            "description": "",
            "description_tooltip": null,
            "layout": "IPY_MODEL_c41488cd5db34951a0de27b22c55adee",
            "max": 1140,
            "min": 0,
            "orientation": "horizontal",
            "style": "IPY_MODEL_0f33e6fa483d4d20a3165e7fbbda389c",
            "value": 1140
          }
        },
        "c41488cd5db34951a0de27b22c55adee": {
          "model_module": "@jupyter-widgets/base",
          "model_module_version": "1.2.0",
          "model_name": "LayoutModel",
          "state": {
            "_model_module": "@jupyter-widgets/base",
            "_model_module_version": "1.2.0",
            "_model_name": "LayoutModel",
            "_view_count": null,
            "_view_module": "@jupyter-widgets/base",
            "_view_module_version": "1.2.0",
            "_view_name": "LayoutView",
            "align_content": null,
            "align_items": null,
            "align_self": null,
            "border": null,
            "bottom": null,
            "display": null,
            "flex": null,
            "flex_flow": null,
            "grid_area": null,
            "grid_auto_columns": null,
            "grid_auto_flow": null,
            "grid_auto_rows": null,
            "grid_column": null,
            "grid_gap": null,
            "grid_row": null,
            "grid_template_areas": null,
            "grid_template_columns": null,
            "grid_template_rows": null,
            "height": null,
            "justify_content": null,
            "justify_items": null,
            "left": null,
            "margin": null,
            "max_height": null,
            "max_width": null,
            "min_height": null,
            "min_width": null,
            "object_fit": null,
            "object_position": null,
            "order": null,
            "overflow": null,
            "overflow_x": null,
            "overflow_y": null,
            "padding": null,
            "right": null,
            "top": null,
            "visibility": null,
            "width": null
          }
        },
        "cb1cde34d1d6435eb102912a72edec65": {
          "model_module": "@jupyter-widgets/controls",
          "model_module_version": "1.5.0",
          "model_name": "HBoxModel",
          "state": {
            "_dom_classes": [],
            "_model_module": "@jupyter-widgets/controls",
            "_model_module_version": "1.5.0",
            "_model_name": "HBoxModel",
            "_view_count": null,
            "_view_module": "@jupyter-widgets/controls",
            "_view_module_version": "1.5.0",
            "_view_name": "HBoxView",
            "box_style": "",
            "children": [
              "IPY_MODEL_a1d8d2b27da04958bcbb2bb1ff11d0ec",
              "IPY_MODEL_b93a2a66a12c4dfbadfba2a14974600e",
              "IPY_MODEL_004f8860e4ee41cd85654d2ae078f283"
            ],
            "layout": "IPY_MODEL_7f50c4950a7349e0ac97dd2343c507ab"
          }
        },
        "d40f2411aa584425a3a9399715591262": {
          "model_module": "@jupyter-widgets/base",
          "model_module_version": "1.2.0",
          "model_name": "LayoutModel",
          "state": {
            "_model_module": "@jupyter-widgets/base",
            "_model_module_version": "1.2.0",
            "_model_name": "LayoutModel",
            "_view_count": null,
            "_view_module": "@jupyter-widgets/base",
            "_view_module_version": "1.2.0",
            "_view_name": "LayoutView",
            "align_content": null,
            "align_items": null,
            "align_self": null,
            "border": null,
            "bottom": null,
            "display": null,
            "flex": null,
            "flex_flow": null,
            "grid_area": null,
            "grid_auto_columns": null,
            "grid_auto_flow": null,
            "grid_auto_rows": null,
            "grid_column": null,
            "grid_gap": null,
            "grid_row": null,
            "grid_template_areas": null,
            "grid_template_columns": null,
            "grid_template_rows": null,
            "height": null,
            "justify_content": null,
            "justify_items": null,
            "left": null,
            "margin": null,
            "max_height": null,
            "max_width": null,
            "min_height": null,
            "min_width": null,
            "object_fit": null,
            "object_position": null,
            "order": null,
            "overflow": null,
            "overflow_x": null,
            "overflow_y": null,
            "padding": null,
            "right": null,
            "top": null,
            "visibility": null,
            "width": null
          }
        },
        "dac24686237b435db7cbe472c9684cdb": {
          "model_module": "@jupyter-widgets/controls",
          "model_module_version": "1.5.0",
          "model_name": "DescriptionStyleModel",
          "state": {
            "_model_module": "@jupyter-widgets/controls",
            "_model_module_version": "1.5.0",
            "_model_name": "DescriptionStyleModel",
            "_view_count": null,
            "_view_module": "@jupyter-widgets/base",
            "_view_module_version": "1.2.0",
            "_view_name": "StyleView",
            "description_width": ""
          }
        },
        "de4a1b89a6eb4c4a96221c1fd23853d7": {
          "model_module": "@jupyter-widgets/base",
          "model_module_version": "1.2.0",
          "model_name": "LayoutModel",
          "state": {
            "_model_module": "@jupyter-widgets/base",
            "_model_module_version": "1.2.0",
            "_model_name": "LayoutModel",
            "_view_count": null,
            "_view_module": "@jupyter-widgets/base",
            "_view_module_version": "1.2.0",
            "_view_name": "LayoutView",
            "align_content": null,
            "align_items": null,
            "align_self": null,
            "border": null,
            "bottom": null,
            "display": null,
            "flex": null,
            "flex_flow": null,
            "grid_area": null,
            "grid_auto_columns": null,
            "grid_auto_flow": null,
            "grid_auto_rows": null,
            "grid_column": null,
            "grid_gap": null,
            "grid_row": null,
            "grid_template_areas": null,
            "grid_template_columns": null,
            "grid_template_rows": null,
            "height": null,
            "justify_content": null,
            "justify_items": null,
            "left": null,
            "margin": null,
            "max_height": null,
            "max_width": null,
            "min_height": null,
            "min_width": null,
            "object_fit": null,
            "object_position": null,
            "order": null,
            "overflow": null,
            "overflow_x": null,
            "overflow_y": null,
            "padding": null,
            "right": null,
            "top": null,
            "visibility": null,
            "width": null
          }
        },
        "def8e1a6fba64adcb2b6806d7a967a6b": {
          "model_module": "@jupyter-widgets/controls",
          "model_module_version": "1.5.0",
          "model_name": "FloatProgressModel",
          "state": {
            "_dom_classes": [],
            "_model_module": "@jupyter-widgets/controls",
            "_model_module_version": "1.5.0",
            "_model_name": "FloatProgressModel",
            "_view_count": null,
            "_view_module": "@jupyter-widgets/controls",
            "_view_module_version": "1.5.0",
            "_view_name": "ProgressView",
            "bar_style": "success",
            "description": "",
            "description_tooltip": null,
            "layout": "IPY_MODEL_7cfcb04233a242cc832eff8fbf305219",
            "max": 3708092,
            "min": 0,
            "orientation": "horizontal",
            "style": "IPY_MODEL_b4b9e3601a8547b4b52669ee5510910b",
            "value": 3708092
          }
        },
        "e010fe56ccb343dd96228fe8ac30f589": {
          "model_module": "@jupyter-widgets/base",
          "model_module_version": "1.2.0",
          "model_name": "LayoutModel",
          "state": {
            "_model_module": "@jupyter-widgets/base",
            "_model_module_version": "1.2.0",
            "_model_name": "LayoutModel",
            "_view_count": null,
            "_view_module": "@jupyter-widgets/base",
            "_view_module_version": "1.2.0",
            "_view_name": "LayoutView",
            "align_content": null,
            "align_items": null,
            "align_self": null,
            "border": null,
            "bottom": null,
            "display": null,
            "flex": null,
            "flex_flow": null,
            "grid_area": null,
            "grid_auto_columns": null,
            "grid_auto_flow": null,
            "grid_auto_rows": null,
            "grid_column": null,
            "grid_gap": null,
            "grid_row": null,
            "grid_template_areas": null,
            "grid_template_columns": null,
            "grid_template_rows": null,
            "height": null,
            "justify_content": null,
            "justify_items": null,
            "left": null,
            "margin": null,
            "max_height": null,
            "max_width": null,
            "min_height": null,
            "min_width": null,
            "object_fit": null,
            "object_position": null,
            "order": null,
            "overflow": null,
            "overflow_x": null,
            "overflow_y": null,
            "padding": null,
            "right": null,
            "top": null,
            "visibility": null,
            "width": null
          }
        },
        "e6d06ea30186482a94d8ec8ef79c6e6e": {
          "model_module": "@jupyter-widgets/controls",
          "model_module_version": "1.5.0",
          "model_name": "DescriptionStyleModel",
          "state": {
            "_model_module": "@jupyter-widgets/controls",
            "_model_module_version": "1.5.0",
            "_model_name": "DescriptionStyleModel",
            "_view_count": null,
            "_view_module": "@jupyter-widgets/base",
            "_view_module_version": "1.2.0",
            "_view_name": "StyleView",
            "description_width": ""
          }
        },
        "ef9d45c62cbd4d3f88c8a2033cebd08d": {
          "model_module": "@jupyter-widgets/controls",
          "model_module_version": "1.5.0",
          "model_name": "HBoxModel",
          "state": {
            "_dom_classes": [],
            "_model_module": "@jupyter-widgets/controls",
            "_model_module_version": "1.5.0",
            "_model_name": "HBoxModel",
            "_view_count": null,
            "_view_module": "@jupyter-widgets/controls",
            "_view_module_version": "1.5.0",
            "_view_name": "HBoxView",
            "box_style": "",
            "children": [
              "IPY_MODEL_b467f5766f4346aa9dfecd634599bf88",
              "IPY_MODEL_11ff95bb2d8d41f385b3c5d70e460ef1",
              "IPY_MODEL_30749979771d48908aaf1f0741d021f8"
            ],
            "layout": "IPY_MODEL_10867fb84bcf4829987c220ef16b0790"
          }
        },
        "f42d5711d14b4ce6a3de4cfb7b90146b": {
          "model_module": "@jupyter-widgets/controls",
          "model_module_version": "1.5.0",
          "model_name": "DescriptionStyleModel",
          "state": {
            "_model_module": "@jupyter-widgets/controls",
            "_model_module_version": "1.5.0",
            "_model_name": "DescriptionStyleModel",
            "_view_count": null,
            "_view_module": "@jupyter-widgets/base",
            "_view_module_version": "1.2.0",
            "_view_name": "StyleView",
            "description_width": ""
          }
        },
        "f676829b903243c4a0fb24057dea441b": {
          "model_module": "@jupyter-widgets/controls",
          "model_module_version": "1.5.0",
          "model_name": "DescriptionStyleModel",
          "state": {
            "_model_module": "@jupyter-widgets/controls",
            "_model_module_version": "1.5.0",
            "_model_name": "DescriptionStyleModel",
            "_view_count": null,
            "_view_module": "@jupyter-widgets/base",
            "_view_module_version": "1.2.0",
            "_view_name": "StyleView",
            "description_width": ""
          }
        },
        "f765826a867941349ea80b3e29058135": {
          "model_module": "@jupyter-widgets/controls",
          "model_module_version": "1.5.0",
          "model_name": "FloatProgressModel",
          "state": {
            "_dom_classes": [],
            "_model_module": "@jupyter-widgets/controls",
            "_model_module_version": "1.5.0",
            "_model_name": "FloatProgressModel",
            "_view_count": null,
            "_view_module": "@jupyter-widgets/controls",
            "_view_module_version": "1.5.0",
            "_view_name": "ProgressView",
            "bar_style": "success",
            "description": "",
            "description_tooltip": null,
            "layout": "IPY_MODEL_86557a28b3dc4d4795628ce0585bcc0f",
            "max": 272,
            "min": 0,
            "orientation": "horizontal",
            "style": "IPY_MODEL_2c1366f6242f4b8fb69292cff33b5d9d",
            "value": 272
          }
        },
        "ffc529adc81449a3af4b1e0ff964688d": {
          "model_module": "@jupyter-widgets/controls",
          "model_module_version": "1.5.0",
          "model_name": "DescriptionStyleModel",
          "state": {
            "_model_module": "@jupyter-widgets/controls",
            "_model_module_version": "1.5.0",
            "_model_name": "DescriptionStyleModel",
            "_view_count": null,
            "_view_module": "@jupyter-widgets/base",
            "_view_module_version": "1.2.0",
            "_view_name": "StyleView",
            "description_width": ""
          }
        }
      }
    }
  },
  "nbformat": 4,
  "nbformat_minor": 0
}