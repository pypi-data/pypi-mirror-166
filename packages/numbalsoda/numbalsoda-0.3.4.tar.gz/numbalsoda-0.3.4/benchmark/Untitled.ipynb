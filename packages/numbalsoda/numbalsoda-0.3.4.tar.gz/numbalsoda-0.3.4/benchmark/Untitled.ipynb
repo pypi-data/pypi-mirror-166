{
 "cells": [
  {
   "cell_type": "code",
   "execution_count": 1,
   "id": "8184cd39",
   "metadata": {},
   "outputs": [],
   "source": [
    "using OrdinaryDiffEq, StaticArrays, BenchmarkTools, Sundials, LSODA, ModelingToolkit\n"
   ]
  },
  {
   "cell_type": "code",
   "execution_count": 2,
   "id": "4cfee360",
   "metadata": {},
   "outputs": [
    {
     "name": "stdout",
     "output_type": "stream",
     "text": [
      "  2.456 ms (31 allocations: 59.23 KiB)\n",
      "  1.405 ms (32 allocations: 65.72 KiB)\n",
      "Tsit5: 3.07466216 ms\n",
      "Vern8: 2.89255312 ms\n"
     ]
    }
   ],
   "source": [
    "function lorenz_static(u,p,t)\n",
    "    @inbounds begin\n",
    "        dx = p[1]*(u[2]-u[1])\n",
    "        dy = u[1]*(p[2]-u[3]) - u[2]\n",
    "        dz = u[1]*u[2] - p[3]*u[3]\n",
    "    end\n",
    "    SA[dx,dy,dz]\n",
    "end\n",
    "u0 = SA[1.0,0.0,0.0]\n",
    "p = SA[10.0,28.0,8/3]\n",
    "tspan = (0.0,100.0)\n",
    "\n",
    "prob = ODEProblem(lorenz_static,u0,tspan,p)\n",
    "@btime solve(prob,Tsit5(),saveat=0.1,reltol=1.0e-8,abstol=1.0e-8) # 2.612 ms (30 allocations: 59.22 KiB)\n",
    "@btime solve(prob,Vern8(),saveat=0.1,reltol=1.0e-8,abstol=1.0e-8); # 1.803 ms (31 allocations: 65.70 KiB)\n",
    "\n",
    "function timetest1()\n",
    "    solve(prob,Tsit5(),saveat=0.1,reltol=1.0e-8,abstol=1.0e-8)\n",
    "end\n",
    "\n",
    "rtime = @elapsed for i in 1:100\n",
    "    timetest1()\n",
    "end\n",
    "println(\"Tsit5: \", rtime/100*1000, \" ms\")\n",
    "\n",
    "function timetest2()\n",
    "    solve(prob,Vern8(),saveat=0.1,reltol=1.0e-8,abstol=1.0e-8)\n",
    "end\n",
    "\n",
    "rtime = @elapsed for i in 1:100\n",
    "    timetest2()\n",
    "end\n",
    "println(\"Vern8: \", rtime/100*1000, \" ms\")"
   ]
  },
  {
   "cell_type": "code",
   "execution_count": 25,
   "id": "028f326c",
   "metadata": {},
   "outputs": [
    {
     "data": {
      "text/plain": [
       "DiffEqBase.DEStats\n",
       "Number of function 1 evaluations:                  445155\n",
       "Number of function 2 evaluations:                  0\n",
       "Number of W matrix evaluations:                    0\n",
       "Number of linear solves:                           0\n",
       "Number of Jacobians created:                       0\n",
       "Number of nonlinear solver iterations:             0\n",
       "Number of nonlinear solver convergence failures:   0\n",
       "Number of rootfind condition calls:                0\n",
       "Number of accepted steps:                          74192\n",
       "Number of rejected steps:                          0"
      ]
     },
     "execution_count": 25,
     "metadata": {},
     "output_type": "execute_result"
    }
   ],
   "source": [
    "sol =  solve(prob,Tsit5(),saveat=0.1,reltol=1.0e-12,abstol=1.0e-12);\n",
    "sol.destats"
   ]
  },
  {
   "cell_type": "code",
   "execution_count": null,
   "id": "540b8809",
   "metadata": {},
   "outputs": [],
   "source": []
  },
  {
   "cell_type": "code",
   "execution_count": 14,
   "id": "8f5e0ea3",
   "metadata": {},
   "outputs": [
    {
     "data": {
      "text/plain": [
       "DiffEqBase.DEStats\n",
       "Number of function 1 evaluations:                  33399\n",
       "Number of function 2 evaluations:                  0\n",
       "Number of W matrix evaluations:                    0\n",
       "Number of linear solves:                           0\n",
       "Number of Jacobians created:                       0\n",
       "Number of nonlinear solver iterations:             0\n",
       "Number of nonlinear solver convergence failures:   0\n",
       "Number of rootfind condition calls:                0\n",
       "Number of accepted steps:                          2569\n",
       "Number of rejected steps:                          0"
      ]
     },
     "execution_count": 14,
     "metadata": {},
     "output_type": "execute_result"
    }
   ],
   "source": [
    "sol.destats"
   ]
  },
  {
   "cell_type": "code",
   "execution_count": null,
   "id": "61457ffb",
   "metadata": {},
   "outputs": [],
   "source": []
  }
 ],
 "metadata": {
  "kernelspec": {
   "display_name": "Julia 1.6.2",
   "language": "julia",
   "name": "julia-1.6"
  },
  "language_info": {
   "file_extension": ".jl",
   "mimetype": "application/julia",
   "name": "julia",
   "version": "1.6.2"
  }
 },
 "nbformat": 4,
 "nbformat_minor": 5
}
