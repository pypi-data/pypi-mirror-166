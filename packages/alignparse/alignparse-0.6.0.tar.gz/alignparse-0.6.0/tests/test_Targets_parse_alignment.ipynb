{
 "cells": [
  {
   "cell_type": "markdown",
   "metadata": {},
   "source": [
    "# Test alignment parsing by `Targets`\n",
    "This Jupyter notebook is designed to test parsing of alignments by `Targets`."
   ]
  },
  {
   "cell_type": "markdown",
   "metadata": {},
   "source": [
    "## Import Python modules"
   ]
  },
  {
   "cell_type": "code",
   "execution_count": 14,
   "metadata": {
    "execution": {
     "iopub.execute_input": "2022-03-04T14:07:42.471434Z",
     "iopub.status.busy": "2022-03-04T14:07:42.471136Z",
     "iopub.status.idle": "2022-03-04T14:07:42.474863Z",
     "shell.execute_reply": "2022-03-04T14:07:42.474311Z",
     "shell.execute_reply.started": "2022-03-04T14:07:42.471410Z"
    }
   },
   "outputs": [],
   "source": [
    "import contextlib\n",
    "import os\n",
    "import random\n",
    "import re\n",
    "import tempfile\n",
    "\n",
    "from IPython.display import display\n",
    "\n",
    "import pandas as pd\n",
    "\n",
    "import yaml\n",
    "\n",
    "import alignparse.minimap2\n",
    "import alignparse.targets"
   ]
  },
  {
   "cell_type": "markdown",
   "metadata": {},
   "source": [
    "## Set up `Targets`\n",
    "Read in the RecA target used in the notebook examples:"
   ]
  },
  {
   "cell_type": "code",
   "execution_count": 15,
   "metadata": {
    "execution": {
     "iopub.execute_input": "2022-03-04T14:07:42.475807Z",
     "iopub.status.busy": "2022-03-04T14:07:42.475652Z",
     "iopub.status.idle": "2022-03-04T14:07:42.746899Z",
     "shell.execute_reply": "2022-03-04T14:07:42.745936Z",
     "shell.execute_reply.started": "2022-03-04T14:07:42.475787Z"
    }
   },
   "outputs": [
    {
     "name": "stdout",
     "output_type": "stream",
     "text": [
      "There is just one target: ['RecA_PacBio_amplicon']\n",
      "It has the following features: ['termini5', 'gene', 'spacer', 'barcode', 'termini3', 'variant_tag5', 'variant_tag3']\n"
     ]
    },
    {
     "data": {
      "image/png": "[encoded data removed]",
      "text/plain": [
       "<Figure size 360x216 with 1 Axes>"
      ]
     },
     "metadata": {},
     "output_type": "display_data"
    }
   ],
   "source": [
    "targetfile = \"../notebooks/input_files/recA_amplicon.gb\"\n",
    "feature_parse_specs_file = \"../notebooks/input_files/recA_feature_parse_specs.yaml\"\n",
    "\n",
    "with open(feature_parse_specs_file) as f:\n",
    "    feature_parse_specs = yaml.safe_load(f)\n",
    "# we can't get accuracies for the dummy alignments used here\n",
    "feature_parse_specs[\"RecA_PacBio_amplicon\"][\"gene\"][\"return\"] = \"mutations\"\n",
    "feature_parse_specs[\"RecA_PacBio_amplicon\"][\"barcode\"][\"return\"] = \"sequence\"\n",
    "\n",
    "targets = alignparse.targets.Targets(\n",
    "    seqsfile=targetfile,\n",
    "    feature_parse_specs=feature_parse_specs,\n",
    "    allow_extra_features=True,\n",
    ")\n",
    "\n",
    "print(f\"There is just one target: {targets.target_names}\")\n",
    "target = targets.targets[0]\n",
    "\n",
    "print(f\"It has the following features: {target.feature_names}\")\n",
    "\n",
    "_ = targets.plot()"
   ]
  },
  {
   "cell_type": "markdown",
   "metadata": {},
   "source": [
    "Location of features in 0-indexed scheme:"
   ]
  },
  {
   "cell_type": "code",
   "execution_count": 16,
   "metadata": {
    "execution": {
     "iopub.execute_input": "2022-03-04T14:07:42.748717Z",
     "iopub.status.busy": "2022-03-04T14:07:42.748498Z",
     "iopub.status.idle": "2022-03-04T14:07:42.755838Z",
     "shell.execute_reply": "2022-03-04T14:07:42.755217Z",
     "shell.execute_reply.started": "2022-03-04T14:07:42.748691Z"
    }
   },
   "outputs": [
    {
     "name": "stdout",
     "output_type": "stream",
     "text": [
      "termini5 0 147\n",
      "gene 147 1206\n",
      "spacer 1206 1285\n",
      "barcode 1285 1303\n",
      "termini3 1303 1342\n",
      "variant_tag5 32 33\n",
      "variant_tag3 1310 1311\n"
     ]
    }
   ],
   "source": [
    "for feature in target.features:\n",
    "    print(feature.name, feature.start, feature.end)"
   ]
  },
  {
   "cell_type": "markdown",
   "metadata": {},
   "source": [
    "## Make some queries\n",
    "We make some query sequences that we will align against the target.\n",
    "The name of each query is a description of all ways that it differs from target:"
   ]
  },
  {
   "cell_type": "code",
   "execution_count": 17,
   "metadata": {
    "execution": {
     "iopub.execute_input": "2022-03-04T14:07:42.757362Z",
     "iopub.status.busy": "2022-03-04T14:07:42.756902Z",
     "iopub.status.idle": "2022-03-04T14:07:42.777081Z",
     "shell.execute_reply": "2022-03-04T14:07:42.776358Z",
     "shell.execute_reply.started": "2022-03-04T14:07:42.757338Z"
    }
   },
   "outputs": [],
   "source": [
    "random.seed(1)  # for reproducible output\n",
    "nts = \"ACGT\"  # valid nucleotides\n",
    "\n",
    "\n",
    "def randseq(length):\n",
    "    \"\"\"Random nucleotide sequence of given length.\"\"\"\n",
    "    return \"\".join(random.choices(nts, k=length))\n",
    "\n",
    "\n",
    "def mutseq(wtseq):\n",
    "    \"\"\"Random mutant sequence from a wildtype sequence.\"\"\"\n",
    "    return \"\".join(random.choice([nt for nt in nts if nt != wt]) for wt in wtseq)\n",
    "\n",
    "\n",
    "def get_wt_query(\n",
    "    target, ambiguous_features=(\"barcode\", \"variant_tag5\", \"variant_tag3\")\n",
    "):\n",
    "    \"\"\"`(description, seq)` for wildtype query, ambiguous features assigned.\"\"\"\n",
    "    seq = target.seq\n",
    "    description = []\n",
    "    for fname in ambiguous_features:\n",
    "        f = target.get_feature(fname)\n",
    "        fseq = randseq(f.length)\n",
    "        seq = seq[: f.start] + fseq + seq[f.end :]\n",
    "        description.append(f\"{f.name}={fseq}\")\n",
    "    assert len(seq) == len(target.seq)\n",
    "    assert re.fullmatch(f\"[{nts}]+\", seq)\n",
    "    return \",\".join(description), seq\n",
    "\n",
    "\n",
    "queries = []\n",
    "\n",
    "# get two random (unmappable) queries\n",
    "queries.append((\"unmapped_1\", randseq(target.length)))\n",
    "queries.append((\"unmapped_2\", randseq(target.length // 2)))\n",
    "\n",
    "# get a fully wildtype query\n",
    "queries.append(get_wt_query(target))\n",
    "\n",
    "# query with query clipping at both ends and a codon substitution in gene\n",
    "desc, seq = get_wt_query(target)\n",
    "# add substitution to gene\n",
    "gene = target.get_feature(\"gene\")\n",
    "geneseq = gene.seq\n",
    "mutstart = 6\n",
    "mutlength = 3\n",
    "mutcodon = mutseq(gene.seq[mutstart : mutstart + mutlength])\n",
    "sub_desc = []\n",
    "for i in range(mutlength):\n",
    "    wt = geneseq[i + mutstart]\n",
    "    mut = mutcodon[i]\n",
    "    sub_desc.append(f\"{wt}{mutstart + i}{mut}\")\n",
    "    geneseq = geneseq[: mutstart + i] + mut + geneseq[mutstart + i + 1 :]\n",
    "seq = seq[: gene.start] + geneseq + seq[gene.end :]\n",
    "desc += f\",gene_{'-'.join(sub_desc)}\"\n",
    "# add clipping\n",
    "desc += \",query_clip5=9\"\n",
    "seq = randseq(9) + seq\n",
    "desc += \",query_clip3=7\"\n",
    "seq += randseq(7)\n",
    "# add to list of queries\n",
    "queries.append((desc, seq))\n",
    "\n",
    "# query with a deletion in gene and in insertion in spacer\n",
    "desc, seq = get_wt_query(target)\n",
    "delstart = 7\n",
    "dellength = 15\n",
    "geneseq = gene.seq[:delstart] + gene.seq[delstart + dellength :]\n",
    "spacer = target.get_feature(\"spacer\")\n",
    "insstart = 4\n",
    "ins = \"G\"\n",
    "spacerseq = spacer.seq[:insstart] + ins + spacer.seq[insstart:]\n",
    "seq = (\n",
    "    seq[: gene.start]\n",
    "    + geneseq\n",
    "    + seq[gene.end : spacer.start]\n",
    "    + spacerseq\n",
    "    + seq[spacer.end :]\n",
    ")\n",
    "desc += f\",gene_del{delstart}to{delstart + dellength}\"\n",
    "desc += f\",spacer_ins{insstart}{ins}\"\n",
    "queries.append((desc, seq))\n",
    "\n",
    "# query with deletion spanning gene and spacer\n",
    "desc, seq = get_wt_query(target)\n",
    "delstartgene = gene.length - 7\n",
    "delendgene = delstartgene + 7\n",
    "geneseq = gene.seq[:delstartgene]\n",
    "delendspacer = 9\n",
    "spacerseq = spacer.seq[delendspacer:]\n",
    "seq = seq[: gene.start] + geneseq + spacerseq + seq[spacer.end :]\n",
    "desc += f\",gene_del{delstartgene}to{delendgene},spacer_del1to{delendspacer}\"\n",
    "queries.append((desc, seq))\n",
    "\n",
    "# query with insertion at boundary of gene and spacer, note how\n",
    "# it is assigned as being at end of gene\n",
    "desc, seq = get_wt_query(target)\n",
    "ins = randseq(14)\n",
    "seq = seq[: gene.end] + ins + seq[spacer.start :]\n",
    "desc += f\",gene_ins{gene.length}{ins}\"\n",
    "queries.append((desc, seq))\n",
    "\n",
    "# query with target clipping at both ends\n",
    "desc, seq = get_wt_query(target)\n",
    "target_clip5 = target.get_feature(\"termini5\").length + 4\n",
    "target_clip3 = 2\n",
    "seq = seq[target_clip5:-target_clip3]\n",
    "desc = desc.split(\",\")\n",
    "desc = \",\".join([desc[0], \"variant_tag5=None\", desc[2]])\n",
    "desc += f\",target_clip5={target_clip5},target_clip3={target_clip3}\"\n",
    "desc += \",termini5=None,gene=<clip4>,termini3=<clip2>\"\n",
    "queries.append((desc, seq))"
   ]
  },
  {
   "cell_type": "markdown",
   "metadata": {},
   "source": [
    "## Align the queries to the target"
   ]
  },
  {
   "cell_type": "code",
   "execution_count": 18,
   "metadata": {
    "execution": {
     "iopub.execute_input": "2022-03-04T14:07:42.778034Z",
     "iopub.status.busy": "2022-03-04T14:07:42.777875Z",
     "iopub.status.idle": "2022-03-04T14:07:42.864942Z",
     "shell.execute_reply": "2022-03-04T14:07:42.863625Z",
     "shell.execute_reply.started": "2022-03-04T14:07:42.778016Z"
    }
   },
   "outputs": [],
   "source": [
    "# NBVAL_IGNORE_OUTPUT\n",
    "\n",
    "mapper = alignparse.minimap2.Mapper(alignparse.minimap2.OPTIONS_CODON_DMS)\n",
    "\n",
    "with contextlib.ExitStack() as stack:\n",
    "\n",
    "    # write queries to FASTA file\n",
    "    queryfile = tempfile.NamedTemporaryFile(\"r+\", suffix=\".fasta\")\n",
    "    queryfile.write(\"\\n\".join(f\">{desc}\\n{seq}\" for desc, seq in queries))\n",
    "    queryfile.flush()\n",
    "\n",
    "    # align the queries to the target\n",
    "    alignmentfile = tempfile.NamedTemporaryFile(\"r+\", suffix=\".sam\")\n",
    "    targets.align(queryfile.name, alignmentfile.name, mapper)\n",
    "\n",
    "    # get the alignment cs data frame\n",
    "    alignments_cs = targets._parse_alignment_cs(alignmentfile.name)\n",
    "\n",
    "    # get the alignment results\n",
    "    readstats, aligned, filtered = targets.parse_alignment(alignmentfile.name)"
   ]
  },
  {
   "cell_type": "markdown",
   "metadata": {},
   "source": [
    "## Check results of `Targets._parse_alignment_cs`\n",
    "We now check if the feature-specific `cs` strings returned by `Targets._parse_alignment_cs` are correct.\n",
    "\n",
    "We expect there to be alignments for just our one target plus the number of unmapped reads:"
   ]
  },
  {
   "cell_type": "code",
   "execution_count": 19,
   "metadata": {
    "execution": {
     "iopub.execute_input": "2022-03-04T14:07:42.867479Z",
     "iopub.status.busy": "2022-03-04T14:07:42.866951Z",
     "iopub.status.idle": "2022-03-04T14:07:42.873080Z",
     "shell.execute_reply": "2022-03-04T14:07:42.872473Z",
     "shell.execute_reply.started": "2022-03-04T14:07:42.867426Z"
    }
   },
   "outputs": [
    {
     "data": {
      "text/plain": [
       "True"
      ]
     },
     "execution_count": 19,
     "metadata": {},
     "output_type": "execute_result"
    }
   ],
   "source": [
    "sorted(alignments_cs.keys()) == [target.name, \"unmapped\"]"
   ]
  },
  {
   "cell_type": "markdown",
   "metadata": {},
   "source": [
    "Make sure the number of unmapped queries equals the number we passed in:"
   ]
  },
  {
   "cell_type": "code",
   "execution_count": 20,
   "metadata": {
    "execution": {
     "iopub.execute_input": "2022-03-04T14:07:42.874284Z",
     "iopub.status.busy": "2022-03-04T14:07:42.873999Z",
     "iopub.status.idle": "2022-03-04T14:07:42.879065Z",
     "shell.execute_reply": "2022-03-04T14:07:42.878525Z",
     "shell.execute_reply.started": "2022-03-04T14:07:42.874260Z"
    }
   },
   "outputs": [
    {
     "data": {
      "text/plain": [
       "True"
      ]
     },
     "execution_count": 20,
     "metadata": {},
     "output_type": "execute_result"
    }
   ],
   "source": [
    "unmapped_queries = [(desc, query) for desc, query in queries if \"unmapped\" in desc]\n",
    "len(unmapped_queries) == alignments_cs[\"unmapped\"]"
   ]
  },
  {
   "cell_type": "markdown",
   "metadata": {},
   "source": [
    "Make sure we get the expected queries mapped to our target:"
   ]
  },
  {
   "cell_type": "code",
   "execution_count": 21,
   "metadata": {
    "execution": {
     "iopub.execute_input": "2022-03-04T14:07:42.880222Z",
     "iopub.status.busy": "2022-03-04T14:07:42.879950Z",
     "iopub.status.idle": "2022-03-04T14:07:42.885409Z",
     "shell.execute_reply": "2022-03-04T14:07:42.884588Z",
     "shell.execute_reply.started": "2022-03-04T14:07:42.880199Z"
    }
   },
   "outputs": [
    {
     "data": {
      "text/plain": [
       "True"
      ]
     },
     "execution_count": 21,
     "metadata": {},
     "output_type": "execute_result"
    }
   ],
   "source": [
    "mapped_queries = [tup for tup in queries if tup not in unmapped_queries]\n",
    "len(mapped_queries) == len(alignments_cs[target.name])"
   ]
  },
  {
   "cell_type": "markdown",
   "metadata": {},
   "source": [
    "Now we look manually at whether we got the expected `cs` strings for features:"
   ]
  },
  {
   "cell_type": "code",
   "execution_count": 22,
   "metadata": {
    "execution": {
     "iopub.execute_input": "2022-03-04T14:07:42.887478Z",
     "iopub.status.busy": "2022-03-04T14:07:42.886821Z",
     "iopub.status.idle": "2022-03-04T14:07:42.904610Z",
     "shell.execute_reply": "2022-03-04T14:07:42.903673Z",
     "shell.execute_reply.started": "2022-03-04T14:07:42.887430Z"
    }
   },
   "outputs": [
    {
     "data": {
      "text/html": [
       "<div>\n",
       "<style scoped>\n",
       "    .dataframe tbody tr th:only-of-type {\n",
       "        vertical-align: middle;\n",
       "    }\n",
       "\n",
       "    .dataframe tbody tr th {\n",
       "        vertical-align: top;\n",
       "    }\n",
       "\n",
       "    .dataframe thead th {\n",
       "        text-align: right;\n",
       "    }\n",
       "</style>\n",
       "<table border=\"1\" class=\"dataframe\">\n",
       "  <thead>\n",
       "    <tr style=\"text-align: right;\">\n",
       "      <th></th>\n",
       "      <th>query_name</th>\n",
       "      <th>query_clip5</th>\n",
       "      <th>query_clip3</th>\n",
       "      <th>termini5_cs</th>\n",
       "      <th>termini5_clip5</th>\n",
       "      <th>termini5_clip3</th>\n",
       "      <th>gene_cs</th>\n",
       "      <th>gene_clip5</th>\n",
       "      <th>gene_clip3</th>\n",
       "      <th>spacer_cs</th>\n",
       "      <th>spacer_clip5</th>\n",
       "      <th>spacer_clip3</th>\n",
       "      <th>barcode_cs</th>\n",
       "      <th>barcode_clip5</th>\n",
       "      <th>barcode_clip3</th>\n",
       "      <th>termini3_cs</th>\n",
       "      <th>termini3_clip5</th>\n",
       "      <th>termini3_clip3</th>\n",
       "      <th>variant_tag5_cs</th>\n",
       "      <th>variant_tag5_clip5</th>\n",
       "      <th>variant_tag5_clip3</th>\n",
       "      <th>variant_tag3_cs</th>\n",
       "      <th>variant_tag3_clip5</th>\n",
       "      <th>variant_tag3_clip3</th>\n",
       "    </tr>\n",
       "  </thead>\n",
       "  <tbody>\n",
       "    <tr>\n",
       "      <th>0</th>\n",
       "      <td>barcode=CTAACTCGAGCTGCAATG,variant_tag5=A,variant_tag3=T</td>\n",
       "      <td>0</td>\n",
       "      <td>0</td>\n",
       "      <td>:32*na:114</td>\n",
       "      <td>0</td>\n",
       "      <td>0</td>\n",
       "      <td>:1059</td>\n",
       "      <td>0</td>\n",
       "      <td>0</td>\n",
       "      <td>:79</td>\n",
       "      <td>0</td>\n",
       "      <td>0</td>\n",
       "      <td>*nc*nt*na*na*nc*nt*nc*ng*na*ng*nc*nt*ng*nc*na*na*nt*ng</td>\n",
       "      <td>0</td>\n",
       "      <td>0</td>\n",
       "      <td>:7*nt:31</td>\n",
       "      <td>0</td>\n",
       "      <td>0</td>\n",
       "      <td>*na</td>\n",
       "      <td>0</td>\n",
       "      <td>0</td>\n",
       "      <td>*nt</td>\n",
       "      <td>0</td>\n",
       "      <td>0</td>\n",
       "    </tr>\n",
       "    <tr>\n",
       "      <th>1</th>\n",
       "      <td>barcode=ACTAAAACCCACCGCGCT,variant_tag5=A,variant_tag3=C,gene_A6G-...</td>\n",
       "      <td>9</td>\n",
       "      <td>7</td>\n",
       "      <td>:32*na:114</td>\n",
       "      <td>0</td>\n",
       "      <td>0</td>\n",
       "      <td>:6*ag*ta*cg:1050</td>\n",
       "      <td>0</td>\n",
       "      <td>0</td>\n",
       "      <td>:79</td>\n",
       "      <td>0</td>\n",
       "      <td>0</td>\n",
       "      <td>*na*nc*nt*na*na*na*na*nc*nc*nc*na*nc*nc*ng*nc*ng*nc*nt</td>\n",
       "      <td>0</td>\n",
       "      <td>0</td>\n",
       "      <td>:7*nc:31</td>\n",
       "      <td>0</td>\n",
       "      <td>0</td>\n",
       "      <td>*na</td>\n",
       "      <td>0</td>\n",
       "      <td>0</td>\n",
       "      <td>*nc</td>\n",
       "      <td>0</td>\n",
       "      <td>0</td>\n",
       "    </tr>\n",
       "    <tr>\n",
       "      <th>2</th>\n",
       "      <td>barcode=GTTACGACACGTTATTTC,variant_tag5=T,variant_tag3=C,gene_del7...</td>\n",
       "      <td>0</td>\n",
       "      <td>0</td>\n",
       "      <td>:32*nt:114</td>\n",
       "      <td>0</td>\n",
       "      <td>0</td>\n",
       "      <td>:7-tcgacgaaaacaaac:1037</td>\n",
       "      <td>0</td>\n",
       "      <td>0</td>\n",
       "      <td>:4+g:75</td>\n",
       "      <td>0</td>\n",
       "      <td>0</td>\n",
       "      <td>*ng*nt*nt*na*nc*ng*na*nc*na*nc*ng*nt*nt*na*nt*nt*nt*nc</td>\n",
       "      <td>0</td>\n",
       "      <td>0</td>\n",
       "      <td>:7*nc:31</td>\n",
       "      <td>0</td>\n",
       "      <td>0</td>\n",
       "      <td>*nt</td>\n",
       "      <td>0</td>\n",
       "      <td>0</td>\n",
       "      <td>*nc</td>\n",
       "      <td>0</td>\n",
       "      <td>0</td>\n",
       "    </tr>\n",
       "    <tr>\n",
       "      <th>3</th>\n",
       "      <td>barcode=TAGTCTGTATCATAACTT,variant_tag5=A,variant_tag3=T,gene_del1...</td>\n",
       "      <td>0</td>\n",
       "      <td>0</td>\n",
       "      <td>:32*na:114</td>\n",
       "      <td>0</td>\n",
       "      <td>0</td>\n",
       "      <td>:1052-agatttt</td>\n",
       "      <td>0</td>\n",
       "      <td>0</td>\n",
       "      <td>-taatcgtct:70</td>\n",
       "      <td>0</td>\n",
       "      <td>0</td>\n",
       "      <td>*nt*na*ng*nt*nc*nt*ng*nt*na*nt*nc*na*nt*na*na*nc*nt*nt</td>\n",
       "      <td>0</td>\n",
       "      <td>0</td>\n",
       "      <td>:7*nt:31</td>\n",
       "      <td>0</td>\n",
       "      <td>0</td>\n",
       "      <td>*na</td>\n",
       "      <td>0</td>\n",
       "      <td>0</td>\n",
       "      <td>*nt</td>\n",
       "      <td>0</td>\n",
       "      <td>0</td>\n",
       "    </tr>\n",
       "    <tr>\n",
       "      <th>4</th>\n",
       "      <td>barcode=TACCCTTGCTAAGTACGC,variant_tag5=T,variant_tag3=G,gene_ins1...</td>\n",
       "      <td>0</td>\n",
       "      <td>0</td>\n",
       "      <td>:32*nt:114</td>\n",
       "      <td>0</td>\n",
       "      <td>0</td>\n",
       "      <td>:1059+gggataggagacta</td>\n",
       "      <td>0</td>\n",
       "      <td>0</td>\n",
       "      <td>:79</td>\n",
       "      <td>0</td>\n",
       "      <td>0</td>\n",
       "      <td>*nt*na*nc*nc*nc*nt*nt*ng*nc*nt*na*na*ng*nt*na*nc*ng*nc</td>\n",
       "      <td>0</td>\n",
       "      <td>0</td>\n",
       "      <td>:7*ng:31</td>\n",
       "      <td>0</td>\n",
       "      <td>0</td>\n",
       "      <td>*nt</td>\n",
       "      <td>0</td>\n",
       "      <td>0</td>\n",
       "      <td>*ng</td>\n",
       "      <td>0</td>\n",
       "      <td>0</td>\n",
       "    </tr>\n",
       "    <tr>\n",
       "      <th>5</th>\n",
       "      <td>barcode=GCGTCACAAGTGCCGAAT,variant_tag5=None,variant_tag3=T,target...</td>\n",
       "      <td>0</td>\n",
       "      <td>0</td>\n",
       "      <td></td>\n",
       "      <td>147</td>\n",
       "      <td>0</td>\n",
       "      <td>:1055</td>\n",
       "      <td>4</td>\n",
       "      <td>0</td>\n",
       "      <td>:79</td>\n",
       "      <td>0</td>\n",
       "      <td>0</td>\n",
       "      <td>*ng*nc*ng*nt*nc*na*nc*na*na*ng*nt*ng*nc*nc*ng*na*na*nt</td>\n",
       "      <td>0</td>\n",
       "      <td>0</td>\n",
       "      <td>:7*nt:29</td>\n",
       "      <td>0</td>\n",
       "      <td>2</td>\n",
       "      <td></td>\n",
       "      <td>1</td>\n",
       "      <td>0</td>\n",
       "      <td>*nt</td>\n",
       "      <td>0</td>\n",
       "      <td>0</td>\n",
       "    </tr>\n",
       "  </tbody>\n",
       "</table>\n",
       "</div>"
      ],
      "text/plain": [
       "                                                              query_name  \\\n",
       "0               barcode=CTAACTCGAGCTGCAATG,variant_tag5=A,variant_tag3=T   \n",
       "1  barcode=ACTAAAACCCACCGCGCT,variant_tag5=A,variant_tag3=C,gene_A6G-...   \n",
       "2  barcode=GTTACGACACGTTATTTC,variant_tag5=T,variant_tag3=C,gene_del7...   \n",
       "3  barcode=TAGTCTGTATCATAACTT,variant_tag5=A,variant_tag3=T,gene_del1...   \n",
       "4  barcode=TACCCTTGCTAAGTACGC,variant_tag5=T,variant_tag3=G,gene_ins1...   \n",
       "5  barcode=GCGTCACAAGTGCCGAAT,variant_tag5=None,variant_tag3=T,target...   \n",
       "\n",
       "   query_clip5  query_clip3 termini5_cs  termini5_clip5  termini5_clip3  \\\n",
       "0            0            0  :32*na:114               0               0   \n",
       "1            9            7  :32*na:114               0               0   \n",
       "2            0            0  :32*nt:114               0               0   \n",
       "3            0            0  :32*na:114               0               0   \n",
       "4            0            0  :32*nt:114               0               0   \n",
       "5            0            0                         147               0   \n",
       "\n",
       "                   gene_cs  gene_clip5  gene_clip3      spacer_cs  \\\n",
       "0                    :1059           0           0            :79   \n",
       "1         :6*ag*ta*cg:1050           0           0            :79   \n",
       "2  :7-tcgacgaaaacaaac:1037           0           0        :4+g:75   \n",
       "3            :1052-agatttt           0           0  -taatcgtct:70   \n",
       "4     :1059+gggataggagacta           0           0            :79   \n",
       "5                    :1055           4           0            :79   \n",
       "\n",
       "   spacer_clip5  spacer_clip3  \\\n",
       "0             0             0   \n",
       "1             0             0   \n",
       "2             0             0   \n",
       "3             0             0   \n",
       "4             0             0   \n",
       "5             0             0   \n",
       "\n",
       "                                               barcode_cs  barcode_clip5  \\\n",
       "0  *nc*nt*na*na*nc*nt*nc*ng*na*ng*nc*nt*ng*nc*na*na*nt*ng              0   \n",
       "1  *na*nc*nt*na*na*na*na*nc*nc*nc*na*nc*nc*ng*nc*ng*nc*nt              0   \n",
       "2  *ng*nt*nt*na*nc*ng*na*nc*na*nc*ng*nt*nt*na*nt*nt*nt*nc              0   \n",
       "3  *nt*na*ng*nt*nc*nt*ng*nt*na*nt*nc*na*nt*na*na*nc*nt*nt              0   \n",
       "4  *nt*na*nc*nc*nc*nt*nt*ng*nc*nt*na*na*ng*nt*na*nc*ng*nc              0   \n",
       "5  *ng*nc*ng*nt*nc*na*nc*na*na*ng*nt*ng*nc*nc*ng*na*na*nt              0   \n",
       "\n",
       "   barcode_clip3 termini3_cs  termini3_clip5  termini3_clip3 variant_tag5_cs  \\\n",
       "0              0    :7*nt:31               0               0             *na   \n",
       "1              0    :7*nc:31               0               0             *na   \n",
       "2              0    :7*nc:31               0               0             *nt   \n",
       "3              0    :7*nt:31               0               0             *na   \n",
       "4              0    :7*ng:31               0               0             *nt   \n",
       "5              0    :7*nt:29               0               2                   \n",
       "\n",
       "   variant_tag5_clip5  variant_tag5_clip3 variant_tag3_cs  variant_tag3_clip5  \\\n",
       "0                   0                   0             *nt                   0   \n",
       "1                   0                   0             *nc                   0   \n",
       "2                   0                   0             *nc                   0   \n",
       "3                   0                   0             *nt                   0   \n",
       "4                   0                   0             *ng                   0   \n",
       "5                   1                   0             *nt                   0   \n",
       "\n",
       "   variant_tag3_clip3  \n",
       "0                   0  \n",
       "1                   0  \n",
       "2                   0  \n",
       "3                   0  \n",
       "4                   0  \n",
       "5                   0  "
      ]
     },
     "metadata": {},
     "output_type": "display_data"
    }
   ],
   "source": [
    "with pd.option_context(\"display.max_colwidth\", 70, \"display.max_columns\", None):\n",
    "    display(alignments_cs[target.name])"
   ]
  },
  {
   "cell_type": "markdown",
   "metadata": {},
   "source": [
    "## Check results of `Targets.parse_alignment`\n",
    "Now check the results or `Targets.parse_alignment`.\n",
    "\n",
    "First make sure the read stats are correct.\n",
    "Here are those read stats:"
   ]
  },
  {
   "cell_type": "code",
   "execution_count": 23,
   "metadata": {
    "execution": {
     "iopub.execute_input": "2022-03-04T14:07:42.906546Z",
     "iopub.status.busy": "2022-03-04T14:07:42.906130Z",
     "iopub.status.idle": "2022-03-04T14:07:42.914040Z",
     "shell.execute_reply": "2022-03-04T14:07:42.913463Z",
     "shell.execute_reply.started": "2022-03-04T14:07:42.906500Z"
    }
   },
   "outputs": [
    {
     "data": {
      "text/html": [
       "<div>\n",
       "<style scoped>\n",
       "    .dataframe tbody tr th:only-of-type {\n",
       "        vertical-align: middle;\n",
       "    }\n",
       "\n",
       "    .dataframe tbody tr th {\n",
       "        vertical-align: top;\n",
       "    }\n",
       "\n",
       "    .dataframe thead th {\n",
       "        text-align: right;\n",
       "    }\n",
       "</style>\n",
       "<table border=\"1\" class=\"dataframe\">\n",
       "  <thead>\n",
       "    <tr style=\"text-align: right;\">\n",
       "      <th></th>\n",
       "      <th>category</th>\n",
       "      <th>count</th>\n",
       "    </tr>\n",
       "  </thead>\n",
       "  <tbody>\n",
       "    <tr>\n",
       "      <th>0</th>\n",
       "      <td>aligned RecA_PacBio_amplicon</td>\n",
       "      <td>3</td>\n",
       "    </tr>\n",
       "    <tr>\n",
       "      <th>1</th>\n",
       "      <td>filtered RecA_PacBio_amplicon</td>\n",
       "      <td>3</td>\n",
       "    </tr>\n",
       "    <tr>\n",
       "      <th>2</th>\n",
       "      <td>unmapped</td>\n",
       "      <td>2</td>\n",
       "    </tr>\n",
       "  </tbody>\n",
       "</table>\n",
       "</div>"
      ],
      "text/plain": [
       "                        category  count\n",
       "0   aligned RecA_PacBio_amplicon      3\n",
       "1  filtered RecA_PacBio_amplicon      3\n",
       "2                       unmapped      2"
      ]
     },
     "execution_count": 23,
     "metadata": {},
     "output_type": "execute_result"
    }
   ],
   "source": [
    "readstats"
   ]
  },
  {
   "cell_type": "markdown",
   "metadata": {},
   "source": [
    "Make sure they are correct for number of unmapped reads:"
   ]
  },
  {
   "cell_type": "code",
   "execution_count": 24,
   "metadata": {
    "execution": {
     "iopub.execute_input": "2022-03-04T14:07:42.914953Z",
     "iopub.status.busy": "2022-03-04T14:07:42.914798Z",
     "iopub.status.idle": "2022-03-04T14:07:42.920141Z",
     "shell.execute_reply": "2022-03-04T14:07:42.919584Z",
     "shell.execute_reply.started": "2022-03-04T14:07:42.914934Z"
    }
   },
   "outputs": [
    {
     "data": {
      "text/plain": [
       "True"
      ]
     },
     "execution_count": 24,
     "metadata": {},
     "output_type": "execute_result"
    }
   ],
   "source": [
    "readstats.set_index(\"category\")[\"count\"].to_dict()[\"unmapped\"] == len(unmapped_queries)"
   ]
  },
  {
   "cell_type": "markdown",
   "metadata": {},
   "source": [
    "Now look at the filtered reads and make sure that they are what we expect:"
   ]
  },
  {
   "cell_type": "code",
   "execution_count": 25,
   "metadata": {
    "execution": {
     "iopub.execute_input": "2022-03-04T14:07:42.921183Z",
     "iopub.status.busy": "2022-03-04T14:07:42.920959Z",
     "iopub.status.idle": "2022-03-04T14:07:42.929637Z",
     "shell.execute_reply": "2022-03-04T14:07:42.928962Z",
     "shell.execute_reply.started": "2022-03-04T14:07:42.921163Z"
    }
   },
   "outputs": [
    {
     "data": {
      "text/html": [
       "<div>\n",
       "<style scoped>\n",
       "    .dataframe tbody tr th:only-of-type {\n",
       "        vertical-align: middle;\n",
       "    }\n",
       "\n",
       "    .dataframe tbody tr th {\n",
       "        vertical-align: top;\n",
       "    }\n",
       "\n",
       "    .dataframe thead th {\n",
       "        text-align: right;\n",
       "    }\n",
       "</style>\n",
       "<table border=\"1\" class=\"dataframe\">\n",
       "  <thead>\n",
       "    <tr style=\"text-align: right;\">\n",
       "      <th></th>\n",
       "      <th>query_name</th>\n",
       "      <th>filter_reason</th>\n",
       "    </tr>\n",
       "  </thead>\n",
       "  <tbody>\n",
       "    <tr>\n",
       "      <th>0</th>\n",
       "      <td>barcode=ACTAAAACCCACCGCGCT,variant_tag5=A,variant_tag3=C,gene_A6G-...</td>\n",
       "      <td>query_clip5</td>\n",
       "    </tr>\n",
       "    <tr>\n",
       "      <th>1</th>\n",
       "      <td>barcode=TAGTCTGTATCATAACTT,variant_tag5=A,variant_tag3=T,gene_del1...</td>\n",
       "      <td>spacer mutation_nt_count</td>\n",
       "    </tr>\n",
       "    <tr>\n",
       "      <th>2</th>\n",
       "      <td>barcode=GCGTCACAAGTGCCGAAT,variant_tag5=None,variant_tag3=T,target...</td>\n",
       "      <td>termini5 clip5</td>\n",
       "    </tr>\n",
       "  </tbody>\n",
       "</table>\n",
       "</div>"
      ],
      "text/plain": [
       "                                                              query_name  \\\n",
       "0  barcode=ACTAAAACCCACCGCGCT,variant_tag5=A,variant_tag3=C,gene_A6G-...   \n",
       "1  barcode=TAGTCTGTATCATAACTT,variant_tag5=A,variant_tag3=T,gene_del1...   \n",
       "2  barcode=GCGTCACAAGTGCCGAAT,variant_tag5=None,variant_tag3=T,target...   \n",
       "\n",
       "              filter_reason  \n",
       "0               query_clip5  \n",
       "1  spacer mutation_nt_count  \n",
       "2            termini5 clip5  "
      ]
     },
     "metadata": {},
     "output_type": "display_data"
    }
   ],
   "source": [
    "with pd.option_context(\"display.max_colwidth\", 70, \"display.max_columns\", None):\n",
    "    display(filtered[target.name])"
   ]
  },
  {
   "cell_type": "markdown",
   "metadata": {},
   "source": [
    "Check that the aligned reads are also what we expect:"
   ]
  },
  {
   "cell_type": "code",
   "execution_count": 26,
   "metadata": {
    "execution": {
     "iopub.execute_input": "2022-03-04T14:07:42.930815Z",
     "iopub.status.busy": "2022-03-04T14:07:42.930544Z",
     "iopub.status.idle": "2022-03-04T14:07:42.939882Z",
     "shell.execute_reply": "2022-03-04T14:07:42.939309Z",
     "shell.execute_reply.started": "2022-03-04T14:07:42.930792Z"
    }
   },
   "outputs": [
    {
     "data": {
      "text/html": [
       "<div>\n",
       "<style scoped>\n",
       "    .dataframe tbody tr th:only-of-type {\n",
       "        vertical-align: middle;\n",
       "    }\n",
       "\n",
       "    .dataframe tbody tr th {\n",
       "        vertical-align: top;\n",
       "    }\n",
       "\n",
       "    .dataframe thead th {\n",
       "        text-align: right;\n",
       "    }\n",
       "</style>\n",
       "<table border=\"1\" class=\"dataframe\">\n",
       "  <thead>\n",
       "    <tr style=\"text-align: right;\">\n",
       "      <th></th>\n",
       "      <th>query_name</th>\n",
       "      <th>query_clip5</th>\n",
       "      <th>query_clip3</th>\n",
       "      <th>gene_mutations</th>\n",
       "      <th>barcode_sequence</th>\n",
       "      <th>variant_tag5_sequence</th>\n",
       "      <th>variant_tag3_sequence</th>\n",
       "    </tr>\n",
       "  </thead>\n",
       "  <tbody>\n",
       "    <tr>\n",
       "      <th>0</th>\n",
       "      <td>barcode=CTAACTCGAGCTGCAATG,variant_tag5=A,variant_tag3=T</td>\n",
       "      <td>0</td>\n",
       "      <td>0</td>\n",
       "      <td></td>\n",
       "      <td>CTAACTCGAGCTGCAATG</td>\n",
       "      <td>A</td>\n",
       "      <td>T</td>\n",
       "    </tr>\n",
       "    <tr>\n",
       "      <th>1</th>\n",
       "      <td>barcode=GTTACGACACGTTATTTC,variant_tag5=T,variant_tag3=C,gene_del7...</td>\n",
       "      <td>0</td>\n",
       "      <td>0</td>\n",
       "      <td>del8to22</td>\n",
       "      <td>GTTACGACACGTTATTTC</td>\n",
       "      <td>T</td>\n",
       "      <td>C</td>\n",
       "    </tr>\n",
       "    <tr>\n",
       "      <th>2</th>\n",
       "      <td>barcode=TACCCTTGCTAAGTACGC,variant_tag5=T,variant_tag3=G,gene_ins1...</td>\n",
       "      <td>0</td>\n",
       "      <td>0</td>\n",
       "      <td>ins1060GGGATAGGAGACTA</td>\n",
       "      <td>TACCCTTGCTAAGTACGC</td>\n",
       "      <td>T</td>\n",
       "      <td>G</td>\n",
       "    </tr>\n",
       "  </tbody>\n",
       "</table>\n",
       "</div>"
      ],
      "text/plain": [
       "                                                              query_name  \\\n",
       "0               barcode=CTAACTCGAGCTGCAATG,variant_tag5=A,variant_tag3=T   \n",
       "1  barcode=GTTACGACACGTTATTTC,variant_tag5=T,variant_tag3=C,gene_del7...   \n",
       "2  barcode=TACCCTTGCTAAGTACGC,variant_tag5=T,variant_tag3=G,gene_ins1...   \n",
       "\n",
       "   query_clip5  query_clip3         gene_mutations    barcode_sequence  \\\n",
       "0            0            0                         CTAACTCGAGCTGCAATG   \n",
       "1            0            0               del8to22  GTTACGACACGTTATTTC   \n",
       "2            0            0  ins1060GGGATAGGAGACTA  TACCCTTGCTAAGTACGC   \n",
       "\n",
       "  variant_tag5_sequence variant_tag3_sequence  \n",
       "0                     A                     T  \n",
       "1                     T                     C  \n",
       "2                     T                     G  "
      ]
     },
     "metadata": {},
     "output_type": "display_data"
    }
   ],
   "source": [
    "with pd.option_context(\"display.max_colwidth\", 70, \"display.max_columns\", None):\n",
    "    display(aligned[target.name])"
   ]
  }
 ],
 "metadata": {
  "kernelspec": {
   "display_name": "Python 3 (ipykernel)",
   "language": "python",
   "name": "python3"
  },
  "language_info": {
   "codemirror_mode": {
    "name": "ipython",
    "version": 3
   },
   "file_extension": ".py",
   "mimetype": "text/x-python",
   "name": "python",
   "nbconvert_exporter": "python",
   "pygments_lexer": "ipython3",
   "version": "3.8.12"
  },
  "toc": {
   "nav_menu": {},
   "number_sections": false,
   "sideBar": true,
   "skip_h1_title": false,
   "toc_cell": false,
   "toc_position": {},
   "toc_section_display": true,
   "toc_window_display": true
  }
 },
 "nbformat": 4,
 "nbformat_minor": 4
}
